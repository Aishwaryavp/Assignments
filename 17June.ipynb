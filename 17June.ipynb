{
 "cells": [
  {
   "cell_type": "code",
   "execution_count": 9,
   "id": "10d04cd1-4ff6-4357-9253-bf7004ef6dc2",
   "metadata": {},
   "outputs": [],
   "source": [
    "# # 1. What is the role of try and exception block?\n",
    "# The try and except blocks in Python are used for handling exceptions (runtime errors) that may occur during the execution of code. They help in graceful error handling, preventing your program from crashing when an unexpected situation arises.\n",
    "# The try block contains the code that might raise an exception, while the except block specifies how to handle the exception when it occurs."
   ]
  },
  {
   "cell_type": "code",
   "execution_count": 14,
   "id": "64995ab4-a47f-463a-a57a-5d323ea63bee",
   "metadata": {},
   "outputs": [
    {
     "name": "stdin",
     "output_type": "stream",
     "text": [
      "enter you age: 31\n"
     ]
    },
    {
     "name": "stdout",
     "output_type": "stream",
     "text": [
      "You can vote\n"
     ]
    }
   ],
   "source": [
    "# 2. What is the syntax for a basic try-except block?\n",
    "try:\n",
    "    input_age=int(input(\"enter you age:\" ))\n",
    "    if input_age < 18:\n",
    "        raise (checkAge)\n",
    "    else:\n",
    "            print(\"You can vote\")\n",
    "except checkAge:\n",
    "              print(\"you can't vote\")"
   ]
  },
  {
   "cell_type": "code",
   "execution_count": 10,
   "id": "435cd907-337c-4486-b9f9-4acad6519262",
   "metadata": {},
   "outputs": [],
   "source": [
    "# 3. What happens if an exception occurs inside a try block and there is no matching except block?\n",
    "# If an exception occurs inside a try block, and there is no matching except block to handle that specific exception type, the program will terminate, and Python will display an error message (called a traceback).\n",
    "# It's a good practice to handle specific exceptions or include a generic except block to catch unexpected exceptions if necessary.\n"
   ]
  },
  {
   "cell_type": "code",
   "execution_count": 4,
   "id": "d9948388-487c-4ce8-890b-e669604f3073",
   "metadata": {},
   "outputs": [],
   "source": [
    "# 4. What is the difference between using a bare except block and specifying a specific exception type?\n",
    "#Using a bare except block (except:) catches all exceptions, which can be risky because it makes it harder to diagnose and debug issues. It's generally not recommended unless you have a good reason to catch all exceptions.\n",
    "#Specifying a specific exception type (e.g., except ValueError:) allows you to catch only that type of exception, making your code more precise in handling errors.\n"
   ]
  },
  {
   "cell_type": "code",
   "execution_count": 11,
   "id": "c5bf91d9-26a4-4ccf-b839-48213fe71d12",
   "metadata": {},
   "outputs": [
    {
     "name": "stdin",
     "output_type": "stream",
     "text": [
      "Enter a number:  5\n"
     ]
    },
    {
     "name": "stdout",
     "output_type": "stream",
     "text": [
      "Result: 2.0\n"
     ]
    }
   ],
   "source": [
    "# 5. Can you have nested try-except blocks in Python? If yes, then give an example.\n",
    "try:\n",
    "    # Outer try block\n",
    "    num = int(input(\"Enter a number: \"))\n",
    "    try:\n",
    "        # Inner try block\n",
    "        result = 10 / num\n",
    "        print(\"Result:\", result)\n",
    "    except ZeroDivisionError:\n",
    "        print(\"Division by zero error in inner try-except block\")\n",
    "except ValueError:\n",
    "    print(\"Invalid input in outer try-except block\")\n"
   ]
  },
  {
   "cell_type": "code",
   "execution_count": 12,
   "id": "5427559d-7b9a-4f78-ac08-ccb358cd7724",
   "metadata": {},
   "outputs": [
    {
     "name": "stdin",
     "output_type": "stream",
     "text": [
      "Enter a number:  7\n"
     ]
    },
    {
     "name": "stdout",
     "output_type": "stream",
     "text": [
      "Result: 1.4285714285714286\n"
     ]
    }
   ],
   "source": [
    "# 6. Can we use multiple exception blocks, if yes then give an example.\n",
    "try:\n",
    "    num = int(input(\"Enter a number: \"))\n",
    "    result = 10 / num\n",
    "    print(\"Result:\", result)\n",
    "except ValueError:\n",
    "    print(\"Invalid input. Please enter a valid number.\")\n",
    "except ZeroDivisionError:\n",
    "    print(\"Division by zero is not allowed.\")\n",
    "except Exception as e:\n",
    "    print(\"An unexpected error occurred:\", e)\n"
   ]
  },
  {
   "cell_type": "code",
   "execution_count": 7,
   "id": "31cd5c9f-e2a0-4b96-990a-380f7916ad4f",
   "metadata": {},
   "outputs": [],
   "source": [
    "# 7. Write the reason due to which following errors are raised:\n",
    "# a. EOFError: This error occurs when an input operation (e.g., input()) is expecting more data to be available, but it encounters the end of the file (EOF) instead.\n",
    "# Typically, this happens when we are trying to read input beyond the end of a file or when you use input() without providing any input, and then press the end-of-file (EOF) key combination (e.g., Ctrl+D on Unix-like systems).\n",
    "# b. FloatingPointError: This error occurs when a floating-point operation results in an undefined or unrepresentable value, typically due to issues like division by zero or arithmetic operations that result in extremely large or small numbers that cannot be represented within the finite precision of floating-point numbers.\n",
    "# c. IndexError: An IndexError occurs when you try to access an element of a sequence (like a list or tuple) using an index that is out of the valid range for that sequence. The valid indices are typically 0 to len(sequence) - 1.\n",
    "# d. MemoryError: MemoryError is raised when an operation cannot be completed due to a lack of available memory (RAM) for the program. This can happen when your program tries to allocate more memory than the system can provide.\n",
    "# e. OverflowError: This error occurs when a mathematical operation exceeds the limits of the data type being used. For example, in Python, integers have a maximum value determined by the platform's architecture, and attempting to exceed this value will result in an OverflowError.\n",
    "# f. TabError: TabError is raised when there are inconsistent or improper use of tabs and spaces in the indentation of Python code. Python uses indentation to define block structures, and mixing tabs and spaces can lead to syntax errors.\n",
    "# g. ValueError: ValueError is raised when a function receives an argument of the correct data type but an inappropriate value. For example, trying to convert a non-integer string to an integer using int() will raise a ValueError."
   ]
  },
  {
   "cell_type": "code",
   "execution_count": 13,
   "id": "6fd9e47e-011b-46a7-98f9-80c6d937ebfe",
   "metadata": {},
   "outputs": [
    {
     "name": "stdin",
     "output_type": "stream",
     "text": [
      "Enter the first number:  5\n",
      "Enter the second number:  3\n"
     ]
    },
    {
     "name": "stdout",
     "output_type": "stream",
     "text": [
      "Result: 1.6666666666666667\n"
     ]
    },
    {
     "name": "stdin",
     "output_type": "stream",
     "text": [
      "Enter an integer:  4\n"
     ]
    },
    {
     "name": "stdout",
     "output_type": "stream",
     "text": [
      "Integer: 4\n"
     ]
    },
    {
     "name": "stdin",
     "output_type": "stream",
     "text": [
      "Enter an index to access:  3\n"
     ]
    },
    {
     "name": "stdout",
     "output_type": "stream",
     "text": [
      "Element at index 3 is: 4\n"
     ]
    },
    {
     "name": "stdin",
     "output_type": "stream",
     "text": [
      "Enter a number:  3\n"
     ]
    },
    {
     "name": "stdout",
     "output_type": "stream",
     "text": [
      "You entered: 3\n",
      "An exception occurred: division by zero\n"
     ]
    }
   ],
   "source": [
    "# 8. Write code for the following given scenario and add try-exception block to it.\n",
    "# a. Program to divide two numbers\n",
    "try:\n",
    "    num1 = float(input(\"Enter the first number: \"))\n",
    "    num2 = float(input(\"Enter the second number: \"))\n",
    "    result = num1 / num2\n",
    "    print(\"Result:\", result)\n",
    "except ZeroDivisionError:\n",
    "    print(\"Division by zero is not allowed.\")\n",
    "except ValueError:\n",
    "    print(\"Invalid input. Please enter valid numbers.\")\n",
    "except Exception as e:\n",
    "    print(\"An unexpected error occurred:\", e)\n",
    "\n",
    "# b. Program to convert a string to an integer\n",
    "try:\n",
    "    user_input = input(\"Enter an integer: \")\n",
    "    integer_value = int(user_input)\n",
    "    print(\"Integer:\", integer_value)\n",
    "except ValueError:\n",
    "    print(\"Invalid input. Please enter a valid integer.\")\n",
    "except Exception as e:\n",
    "    print(\"An unexpected error occurred:\", e)\n",
    "\n",
    "# c. Program to access an element in a list\n",
    "try:\n",
    "    my_list = [1, 2, 3, 4, 5]\n",
    "    index = int(input(\"Enter an index to access: \"))\n",
    "    element = my_list[index]\n",
    "    print(\"Element at index\", index, \"is:\", element)\n",
    "except IndexError:\n",
    "    print(\"Index out of range. Please enter a valid index.\")\n",
    "except ValueError:\n",
    "    print(\"Invalid input. Please enter a valid integer index.\")\n",
    "except Exception as e:\n",
    "    print(\"An unexpected error occurred:\", e)\n",
    "\n",
    "# d. Program to handle a specific exception\n",
    "try:\n",
    "    user_input = input(\"Enter a number: \")\n",
    "    number = int(user_input)\n",
    "    print(\"You entered:\", number)\n",
    "except ValueError:\n",
    "    print(\"Invalid input. Please enter a valid number.\")\n",
    "except Exception as e:\n",
    "    print(\"An unexpected error occurred:\", e)\n",
    "\n",
    "# e. Program to handle any exception\n",
    "try:\n",
    "    x = 10 / 0\n",
    "except Exception as e:\n",
    "    print(\"An exception occurred:\", e)\n"
   ]
  },
  {
   "cell_type": "code",
   "execution_count": null,
   "id": "d8ee7cbe-40bf-4f8e-905b-1cde89a9da30",
   "metadata": {},
   "outputs": [],
   "source": []
  }
 ],
 "metadata": {
  "kernelspec": {
   "display_name": "Python 3 (ipykernel)",
   "language": "python",
   "name": "python3"
  },
  "language_info": {
   "codemirror_mode": {
    "name": "ipython",
    "version": 3
   },
   "file_extension": ".py",
   "mimetype": "text/x-python",
   "name": "python",
   "nbconvert_exporter": "python",
   "pygments_lexer": "ipython3",
   "version": "3.10.6"
  }
 },
 "nbformat": 4,
 "nbformat_minor": 5
}
