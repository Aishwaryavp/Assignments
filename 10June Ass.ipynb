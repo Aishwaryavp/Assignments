{
 "cells": [
  {
   "cell_type": "code",
   "execution_count": 1,
   "id": "8aa0dfd9-14a8-4115-8eeb-aedba0aca997",
   "metadata": {},
   "outputs": [
    {
     "name": "stdout",
     "output_type": "stream",
     "text": [
      "13\n",
      "12\n"
     ]
    }
   ],
   "source": [
    "#1. In Python, what is the difference between a built-in function and a user-defined function? Provide an example of each.\n",
    "#Built-in Function: A built-in function is a function that is part of the Python programming language itself. These functions are pre-defined and readily available for use without requiring any additional imports or declarations.\n",
    "# Using the built-in function len()\n",
    "my_string = \"Hello, world!\"\n",
    "length = len(my_string)\n",
    "print(length)  \n",
    "#User-defined Function: A user-defined function is a function created by the programmer to perform specific tasks or operations. These functions are defined using the def keyword, followed by a name, a set of parameters (optional), and a block of code that defines the function's behavior.\n",
    "def add_numbers(a, b):\n",
    "    return a + b\n",
    "result = add_numbers(5, 7)\n",
    "print(result)"
   ]
  },
  {
   "cell_type": "code",
   "execution_count": 3,
   "id": "4df2fcca-3377-4a01-aabf-869da01df145",
   "metadata": {},
   "outputs": [
    {
     "name": "stdout",
     "output_type": "stream",
     "text": [
      "Hello, Alice! You are 30 years old.\n",
      "Hello, Bob! You are 25 years old.\n"
     ]
    }
   ],
   "source": [
    "#How can you pass arguments to a function in Python? Explain the difference between positional arguments and keyword arguments.\n",
    "# Positional Arguments: Positional arguments are the most common way of passing arguments to a function.\n",
    "# When calling a function with positional arguments, the values are matched with the parameters based on their positions or order.\n",
    "# The first argument passed corresponds to the first parameter in the function definition, the second argument to the second parameter, and so on.\n",
    "def greet(name, age):\n",
    "    print(f\"Hello, {name}! You are {age} years old.\")\n",
    "greet(\"Alice\", 30)\n",
    "\n",
    "#Keyword Arguments: Keyword arguments are passed to a function using the parameter names explicitly, along with their corresponding values.\n",
    "# When calling a function with keyword arguments, the order of the arguments doesn't matter, as the arguments are matched to the parameters based on their names.\n",
    "# Using keyword arguments allows you to provide values for only specific parameters, skipping others with default values.\n",
    "def greet(name, age):\n",
    "    print(f\"Hello, {name}! You are {age} years old.\")\n",
    "greet(age=25, name=\"Bob\")"
   ]
  },
  {
   "cell_type": "code",
   "execution_count": 4,
   "id": "f971874c-97da-46c7-b441-fadae3b5f9a8",
   "metadata": {},
   "outputs": [
    {
     "name": "stdout",
     "output_type": "stream",
     "text": [
      "5.0\n",
      "Error: Cannot divide by zero.\n",
      "None\n"
     ]
    }
   ],
   "source": [
    "#3. What is the purpose of the return statement in a function? Can a function have multiple return statements? Explain with an example.\n",
    "#The primary purposes of the return statement are:\n",
    "#To pass data from the function back to the caller for further processing or usage.\n",
    "#To terminate the function's execution prematurely if necessary.\n",
    "def divide_numbers(a, b):\n",
    "    if b == 0:\n",
    "        print(\"Error: Cannot divide by zero.\")\n",
    "        return None  # Returns None to indicate an error\n",
    "\n",
    "    result = a / b\n",
    "    return result  # Returns the division result\n",
    "result1 = divide_numbers(10, 2)\n",
    "print(result1) \n",
    "result2 = divide_numbers(7, 0)\n",
    "print(result2) "
   ]
  },
  {
   "cell_type": "code",
   "execution_count": 1,
   "id": "142ad73e-ecd9-402c-a120-016659832be2",
   "metadata": {},
   "outputs": [
    {
     "name": "stdout",
     "output_type": "stream",
     "text": [
      "[(4, 1), (1, 3), (2, 5), (3, 7)]\n"
     ]
    }
   ],
   "source": [
    "#4. What are lambda functions in Python? How are they different from regular functions? Provide an example where a lambda function can be useful.\n",
    "#Lambda functions in Python are a concise way of creating small anonymous functions.\n",
    "#lambda functions are defined using the lambda keyword.\n",
    "\n",
    "#Differences between lambda functions and regular functions:\n",
    "#Syntax: Lambda functions are defined using the lambda keyword followed by a list of arguments, a colon :, and an expression. Regular functions are defined using the def keyword, a name, a list of parameters in parentheses, a colon :, and a block of code.\n",
    "#Name: Lambda functions are anonymous functions, meaning they don't have a specific name. They are often used when a small function is needed for a short period and doesn't require a formal name. Regular functions have a specified name.\n",
    "#Number of Expressions: Lambda functions can only contain a single expression, whereas regular functions can contain multiple statements and expressions within their body.\n",
    "\n",
    "numbers_list = [(2, 5), (1, 3), (3, 7), (4, 1)]\n",
    "# Using a lambda function as the key argument for sorting\n",
    "sorted_list = sorted(numbers_list, key=lambda x: x[1])\n",
    "print(sorted_list)"
   ]
  },
  {
   "cell_type": "code",
   "execution_count": 3,
   "id": "d457f03d-9308-4fda-8ad4-c520121707b2",
   "metadata": {},
   "outputs": [
    {
     "name": "stdout",
     "output_type": "stream",
     "text": [
      "10\n",
      "20\n",
      "20\n"
     ]
    }
   ],
   "source": [
    "#5. How does the concept of \"scope\" apply to functions in Python? Explain the difference between local scope and global scope.\n",
    "#Scope in Functions: the concept of \"scope\" refers to the region or part of the code where a variable is accessible. The scope determines where a variable can be accessed and modified. Python has two main types of scope when it comes to functions:\n",
    "#Local Scope: Variables defined inside a function have a local scope, which means they can only be accessed within the function in which they are defined. Local variables are created when the function is called and are destroyed when the function exits. They cannot be accessed from outside the function.\n",
    "def my_function():\n",
    "    x = 10   # x has local scope, accessible only within my_function\n",
    "    print(x)\n",
    "\n",
    "my_function()\n",
    "\n",
    "#Global Scope: Variables defined outside of any function have a global scope, which means they can be accessed from anywhere in the code, including within functions. Global variables are created when the program starts and exist until the program terminates. However, if you want to modify a global variable inside a function, you need to use the global keyword to indicate that you want to refer to the global variable, not create a new local variable.\n",
    "\n",
    "x = 10  # x has global scope, accessible throughout the entire code\n",
    "\n",
    "def my_function():\n",
    "    global x  # Using the 'global' keyword to modify the global variable\n",
    "    x = 20\n",
    "    print(x)\n",
    "\n",
    "my_function()\n",
    "print(x) \n",
    "\n"
   ]
  },
  {
   "cell_type": "code",
   "execution_count": 4,
   "id": "943c468b-a5b5-4074-a6c7-21b178f301f6",
   "metadata": {},
   "outputs": [
    {
     "name": "stdout",
     "output_type": "stream",
     "text": [
      "10 20 30\n"
     ]
    }
   ],
   "source": [
    "#6. How can you use the \"return\" statement in a Python function to return multiple values?\n",
    "# we can use the return statement to return multiple values from a function. Instead of returning a single value, you can return a tuple containing multiple values. A tuple is an ordered collection of elements, and it can be used to return multiple values as a single entity.\n",
    "def get_values():\n",
    "    a = 10\n",
    "    b = 20\n",
    "    c = 30\n",
    "    return a, b, c  # Returning a tuple containing multiple values\n",
    "\n",
    "# Unpacking the returned tuple into separate variables\n",
    "x, y, z = get_values()\n",
    "print(x, y, z)\n"
   ]
  },
  {
   "cell_type": "code",
   "execution_count": 6,
   "id": "859ef829-2867-47aa-90ac-7cbce60d3740",
   "metadata": {},
   "outputs": [
    {
     "name": "stdout",
     "output_type": "stream",
     "text": [
      "100\n",
      "50\n",
      "[1, 2, 3, 4]\n",
      "[1, 2, 3, 4]\n"
     ]
    }
   ],
   "source": [
    "#7. What is the difference between the \"pass by value\" and \"pass by reference\" concepts when it comes to function arguments in Python?\n",
    "\n",
    "#Pass by Value: In pass by value, a copy of the variable's value is passed to the function. Changes made to the parameter within the function do not affect the original variable outside the function.\n",
    "def modify_value(x):\n",
    "    x = 100  # Changes made to 'x' inside the function do not affect the original variable\n",
    "    print(x)\n",
    "num = 50\n",
    "modify_value(num)\n",
    "print(num)\n",
    "\n",
    "#Pass by Reference: In pass by reference, the memory address (reference) of the variable is passed to the function. Changes made to the parameter within the function directly affect the original variable outside the function.\n",
    "\n",
    "def modify_list(my_list):\n",
    "    my_list.append(4)  # Changes made to 'my_list' inside the function affect the original list\n",
    "    print(my_list)\n",
    "\n",
    "my_list = [1, 2, 3]\n",
    "modify_list(my_list)\n",
    "print(my_list) \n"
   ]
  },
  {
   "cell_type": "code",
   "execution_count": 7,
   "id": "c3de62d3-d7e2-48a2-93aa-a580c7994fa2",
   "metadata": {},
   "outputs": [
    {
     "name": "stdout",
     "output_type": "stream",
     "text": [
      "Results for integer value 4:\n",
      "Logarithm: 1.3862943611198906\n",
      "Exponential: 54.598150033144236\n",
      "Power of 2: 16.0\n",
      "Square Root: 2.0\n",
      "\n",
      "Results for decimal value 2.5:\n",
      "Logarithm: 0.9162907318741551\n",
      "Exponential: 12.182493960703473\n",
      "Power of 2: 5.656854249492381\n",
      "Square Root: 1.5811388300841898\n"
     ]
    }
   ],
   "source": [
    "#8. Create a function that can intake integer or decimal value and do following operations:\n",
    "# a. Logarithmic function (log x) b. Exponential function (exp(x)) c. Power function with base 2 (2x) d. Square root\n",
    "import math\n",
    "\n",
    "def math_operations(x):\n",
    "    logarithm = math.log(x)\n",
    "    exponential = math.exp(x)\n",
    "    power_of_two = math.pow(2, x)\n",
    "    square_root = math.sqrt(x)\n",
    "    return logarithm, exponential, power_of_two, square_root\n",
    "\n",
    "result_integer = math_operations(4)\n",
    "result_decimal = math_operations(2.5)\n",
    "\n",
    "print(\"Results for integer value 4:\")\n",
    "print(\"Logarithm:\", result_integer[0])\n",
    "print(\"Exponential:\", result_integer[1])\n",
    "print(\"Power of 2:\", result_integer[2])\n",
    "print(\"Square Root:\", result_integer[3])\n",
    "\n",
    "print(\"\\nResults for decimal value 2.5:\")\n",
    "print(\"Logarithm:\", result_decimal[0])\n",
    "print(\"Exponential:\", result_decimal[1])\n",
    "print(\"Power of 2:\", result_decimal[2])\n",
    "print(\"Square Root:\", result_decimal[3])\n"
   ]
  },
  {
   "cell_type": "code",
   "execution_count": 14,
   "id": "98688cf7-686b-4bde-9708-b293ab6c8863",
   "metadata": {},
   "outputs": [
    {
     "name": "stdout",
     "output_type": "stream",
     "text": [
      "First Name : Aishwarya  and Last Name : Patil\n"
     ]
    }
   ],
   "source": [
    "#9. Create a function that takes a full name as an argument and returns first name and last name.\n",
    "def extract_first_last_name(full_name):\n",
    "    # Split the full name into parts using whitespace as the separator\n",
    "    name_parts = full_name.split()\n",
    "    first_name = name_parts[0]\n",
    "    last_name = name_parts[-1]\n",
    "    return first_name, last_name\n",
    "\n",
    "full_name = \"Aishwarya V Patil\"\n",
    "\n",
    "first_name, last_name = extract_first_last_name(full_name)\n",
    "print(\"First Name :\", first_name,\" and Last Name :\", last_name)"
   ]
  },
  {
   "cell_type": "code",
   "execution_count": null,
   "id": "19d981f7-dcce-4a17-939b-8a391aa7bd3c",
   "metadata": {},
   "outputs": [],
   "source": []
  }
 ],
 "metadata": {
  "kernelspec": {
   "display_name": "Python 3 (ipykernel)",
   "language": "python",
   "name": "python3"
  },
  "language_info": {
   "codemirror_mode": {
    "name": "ipython",
    "version": 3
   },
   "file_extension": ".py",
   "mimetype": "text/x-python",
   "name": "python",
   "nbconvert_exporter": "python",
   "pygments_lexer": "ipython3",
   "version": "3.10.6"
  }
 },
 "nbformat": 4,
 "nbformat_minor": 5
}
