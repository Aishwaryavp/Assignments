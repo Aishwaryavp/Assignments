{
 "cells": [
  {
   "cell_type": "code",
   "execution_count": 11,
   "id": "d611c9be-c0a0-45d0-9d77-40ffc9da6592",
   "metadata": {},
   "outputs": [
    {
     "name": "stdout",
     "output_type": "stream",
     "text": [
      "File not found.\n"
     ]
    }
   ],
   "source": [
    "# 1. What is the role of the 'else' block in a try-except statement? Provide an example scenario where it would be useful.\n",
    "#The else block in a try-except statement is executed when no exception is raised in the try block. It allows you to specify a set of statements to execute if the code in the try block runs successfully without errors.\n",
    "#It is useful when you want to perform some actions only if the try block succeeds.\n",
    "\n",
    "try:\n",
    "    file = open(\"Treat.txt\", \"r\")\n",
    "    data = file.read()\n",
    "except FileNotFoundError:\n",
    "    print(\"File not found.\")\n",
    "else:\n",
    "    print(\"File read successfully.\")\n",
    "    file.close()"
   ]
  },
  {
   "cell_type": "code",
   "execution_count": 12,
   "id": "191cd450-cb9c-40e4-981d-2eec46227ab4",
   "metadata": {},
   "outputs": [
    {
     "name": "stdin",
     "output_type": "stream",
     "text": [
      "Enter a number:  45\n",
      "Enter another number:  67\n"
     ]
    },
    {
     "name": "stdout",
     "output_type": "stream",
     "text": [
      "Result: 0.6716417910447762\n"
     ]
    }
   ],
   "source": [
    "# 2. Can a try-except block be nested inside another try-except block? Explain with an example.\n",
    "#Yes, you can nest one try-except block inside another. This allows you to handle exceptions at different levels of granularity.\n",
    "try:\n",
    "    # Outer try block\n",
    "    num1 = int(input(\"Enter a number: \"))\n",
    "    try:\n",
    "        # Inner try block\n",
    "        num2 = int(input(\"Enter another number: \"))\n",
    "        result = num1 / num2\n",
    "        print(\"Result:\", result)\n",
    "    except ZeroDivisionError:\n",
    "        print(\"Division by zero error in inner try-except block\")\n",
    "except ValueError:\n",
    "    print(\"Invalid input in outer try-except block\")\n"
   ]
  },
  {
   "cell_type": "code",
   "execution_count": 13,
   "id": "9ba4bb1e-a166-4912-8b40-7faa9c50d78c",
   "metadata": {},
   "outputs": [
    {
     "name": "stdout",
     "output_type": "stream",
     "text": [
      "Custom exception caught: This is a custom exception.\n"
     ]
    }
   ],
   "source": [
    "# 3. How can you create a custom exception class in Python? Provide an example that demonstrates its usage.\n",
    "#You can create a custom exception class by defining a new class that inherits from the Exception or a derived exception class. You can add custom attributes and methods to your exception class.\n",
    "class CustomError(Exception):\n",
    "    def __init__(self, message):\n",
    "        self.message = message\n",
    "\n",
    "try:\n",
    "    raise CustomError(\"This is a custom exception.\")\n",
    "except CustomError as e:\n",
    "    print(\"Custom exception caught:\", e)\n"
   ]
  },
  {
   "cell_type": "code",
   "execution_count": 4,
   "id": "7442508e-406c-4f05-b29b-97b5a3ac3cb2",
   "metadata": {},
   "outputs": [],
   "source": [
    "# 4. What are some common exceptions that are built-in to Python?\n",
    "# SyntaxError: Raised for syntax errors in the code.\n",
    "# IndentationError: Raised for incorrect indentation.\n",
    "# ValueError: Raised when a function receives an inappropriate argument.\n",
    "# TypeError: Raised when an operation is performed on an object of an inappropriate type.\n",
    "# KeyError: Raised when a dictionary key is not found.\n",
    "# FileNotFoundError: Raised when an attempt to open a file fails because the file does not exist\n"
   ]
  },
  {
   "cell_type": "code",
   "execution_count": 14,
   "id": "09126b37-d148-42de-a299-eac002f65e81",
   "metadata": {},
   "outputs": [],
   "source": [
    "# 5. What is logging in Python, and why is it important in software development?\n",
    "#Logging is a built-in Python module that provides a flexible and standardized way to record messages from your code during its execution.\n",
    "#It is important in software development for debugging, monitoring, and auditing applications, especially in production environments."
   ]
  },
  {
   "cell_type": "code",
   "execution_count": 15,
   "id": "070e268d-4ca9-4db1-a1ab-c8248b306289",
   "metadata": {},
   "outputs": [
    {
     "name": "stderr",
     "output_type": "stream",
     "text": [
      "DEBUG:root:Debug message\n",
      "INFO:root:Information message\n",
      "WARNING:root:Warning message\n",
      "ERROR:root:Error message\n",
      "CRITICAL:root:Critical message\n"
     ]
    }
   ],
   "source": [
    "# 6. Explain the purpose of log levels in Python logging and provide examples of when each log level would be appropriate.\n",
    "# Log levels determine the severity of a log message. Python's logging module provides several log levels, including:\n",
    "# DEBUG: Detailed information for debugging.\n",
    "# INFO: General information about the program's progress.\n",
    "# WARNING: Indications that something unexpected happened or potential issues.\n",
    "# ERROR: Indications that a serious problem occurred during execution.\n",
    "# CRITICAL: Severe error messages indicating a critical failure\n",
    "import logging\n",
    "\n",
    "logging.basicConfig(level=logging.DEBUG)\n",
    "\n",
    "logging.debug(\"Debug message\")\n",
    "logging.info(\"Information message\")\n",
    "logging.warning(\"Warning message\")\n",
    "logging.error(\"Error message\")\n",
    "logging.critical(\"Critical message\")"
   ]
  },
  {
   "cell_type": "code",
   "execution_count": 18,
   "id": "f3212107-f37c-4015-a455-1d2174105a9b",
   "metadata": {},
   "outputs": [
    {
     "name": "stderr",
     "output_type": "stream",
     "text": [
      "INFO:root:Customized log message format\n"
     ]
    }
   ],
   "source": [
    "# 7. What are log formatters in Python logging, and how can you customise the log message format using formatters?\n",
    "#Log formatters define the structure and content of log messages. You can customize log message formats using formatters. Python's logging module provides various formatter classes.\n",
    "\n",
    "import logging\n",
    "logging.basicConfig(format='%(asctime)s - %(levelname)s - %(message)s', level=logging.INFO)\n",
    "logging.info(\"Customized log message format\")"
   ]
  },
  {
   "cell_type": "code",
   "execution_count": 21,
   "id": "073c7a75-ef8f-48f3-822c-86668fa90b35",
   "metadata": {},
   "outputs": [],
   "source": [
    "# 8. How can you set up logging to capture log messages from multiple modules or classes in a Python application?\n",
    "#You can configure Python logging to capture log messages from multiple modules or classes by configuring the logger hierarchy. Each module or class can create its logger instance and configure it as needed.\n",
    "\n",
    "import logging\n",
    "\n",
    "logger1 = logging.getLogger(\"Module1\")\n",
    "logger1.setLevel(logging.INFO)\n",
    "\n",
    "logger2 = logging.getLogger(\"Module2\")\n",
    "logger2.setLevel(logging.DEBUG)\n"
   ]
  },
  {
   "cell_type": "code",
   "execution_count": 22,
   "id": "cc977cc3-3b62-4488-b6f7-da86d785bd1d",
   "metadata": {},
   "outputs": [],
   "source": [
    "#9. What is the difference between the logging and print statements in Python? When should you use logging over print statements in a real-world application?\n",
    "# Logging is preferred over print statements in real-world applications for several reasons:\n",
    "# Log levels allow you to filter and control the verbosity of log messages.\n",
    "# Logs can be directed to various outputs (console, file, network) without code changes.\n",
    "# Logs provide context (timestamps, log levels) for each message.\n",
    "# Logs are essential for debugging, monitoring, and diagnosing issues in production environments.\n",
    "# Logs can be easily disabled or adjusted to reduce overhead in non-debugging scenarios."
   ]
  },
  {
   "cell_type": "code",
   "execution_count": 23,
   "id": "fcb5fbfc-9b68-4564-8676-04f178915df1",
   "metadata": {},
   "outputs": [
    {
     "name": "stderr",
     "output_type": "stream",
     "text": [
      "INFO:root:Hello, World!\n"
     ]
    }
   ],
   "source": [
    "#10. Write a Python program that logs a message to a file named \"app.log\" with the following requirements:\n",
    "# ● The log message should be \"Hello, World!\"\n",
    "# ● The log level should be set to \"INFO.\"\n",
    "# ● The log file should append new log entries without overwriting previous ones.\n",
    "import logging\n",
    "logging.basicConfig(filename='app.log', level=logging.INFO)\n",
    "logging.info(\"Hello, World!\")\n"
   ]
  },
  {
   "cell_type": "code",
   "execution_count": null,
   "id": "920a5f86-cc3a-44b6-a196-242547a50a5c",
   "metadata": {},
   "outputs": [],
   "source": [
    "#11. Create a Python program that logs an error message to the console and a file named\n",
    "\"errors.log\" if an exception occurs during the program's execution. The error\n",
    "message should include the exception type and a timestamp."
   ]
  }
 ],
 "metadata": {
  "kernelspec": {
   "display_name": "Python 3 (ipykernel)",
   "language": "python",
   "name": "python3"
  },
  "language_info": {
   "codemirror_mode": {
    "name": "ipython",
    "version": 3
   },
   "file_extension": ".py",
   "mimetype": "text/x-python",
   "name": "python",
   "nbconvert_exporter": "python",
   "pygments_lexer": "ipython3",
   "version": "3.10.6"
  }
 },
 "nbformat": 4,
 "nbformat_minor": 5
}
