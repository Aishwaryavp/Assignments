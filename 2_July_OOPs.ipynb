{
 "cells": [
  {
   "cell_type": "code",
   "execution_count": 11,
   "id": "f718b55b-26b7-4123-80ea-9bbcda7496e4",
   "metadata": {},
   "outputs": [],
   "source": [
    "# # 1. Explain what inheritance is in object-oriented programming and why it is used.\n",
    "# Inheritance is a fundamental concept in object-oriented programming (OOP) that allows a new class (derived or subclass) to inherit properties and behaviors (attributes and methods) from an existing class (base or superclass).\n",
    "# It is used to promote code reuse, establish a hierarchical relationship between classes, and model the \"is-a\" relationship between objects. With inheritance, you can create new classes that inherit the characteristics of existing classes while adding or modifying specific features."
   ]
  },
  {
   "cell_type": "code",
   "execution_count": 12,
   "id": "e9ce1d7f-1560-4298-bfd3-38d410c9aaab",
   "metadata": {},
   "outputs": [],
   "source": [
    "# 2. Discuss the concept of single inheritance and multiple inheritance, highlighting their differences and advantages.\n",
    "# Single Inheritance: In single inheritance, a derived class inherits from a single base class. It is a simpler and more straightforward form of inheritance, common in languages like Python and Java.\n",
    "# Multiple Inheritance: In multiple inheritance, a derived class can inherit from multiple base classes. This allows a class to inherit attributes and behaviors from more than one source. Multiple inheritance can lead to complex class hierarchies and potential conflicts but provides more flexibility.\n",
    "\n",
    "# Advantages:\n",
    "# Single Inheritance: Simplicity, easy to understand and implement.\n",
    "# Multiple Inheritance: Increased code reuse, ability to model complex relationships."
   ]
  },
  {
   "cell_type": "code",
   "execution_count": 4,
   "id": "1ba4e9f9-a27b-4fdb-a082-b18013e2bcaa",
   "metadata": {},
   "outputs": [],
   "source": [
    "# 3. Explain the terms \"base class\" and \"derived class\" in the context of inheritance.\n",
    "# Base Class: Also known as a superclass or parent class, it is the class whose attributes and methods are inherited by another class.\n",
    "# Derived Class: Also known as a subclass or child class, it is the class that inherits attributes and methods from a base class and may add new attributes or override inherited methods."
   ]
  },
  {
   "cell_type": "code",
   "execution_count": 5,
   "id": "47078cbd-dbce-4fc8-a7cd-04ee292c5eb4",
   "metadata": {},
   "outputs": [],
   "source": [
    "# 4. What is the significance of the \"protected\" access modifier in inheritance? How does it differ from \"private\" and \"public\" modifiers?\n",
    "# In Python, the \"protected\" access modifier is denoted by a single underscore before an attribute or method name (e.g., _protected_attribute). It is intended to indicate that an attribute or method should not be accessed directly from outside the class but is still accessible.\n",
    "# Compared to \"private\" (denoted by double underscores) which strongly discourages external access and \"public\" (no underscores) which allows unrestricted access, \"protected\" provides a middle ground where it is expected that attributes and methods are internal to the class but can be accessed if necessary.\n"
   ]
  },
  {
   "cell_type": "code",
   "execution_count": 14,
   "id": "69e61c05-db3b-4f7a-8b0b-fd589c3c2a26",
   "metadata": {},
   "outputs": [
    {
     "data": {
      "text/plain": [
       "<__main__.Child at 0x7f2a342bba00>"
      ]
     },
     "execution_count": 14,
     "metadata": {},
     "output_type": "execute_result"
    }
   ],
   "source": [
    "# 5. What is the purpose of the \"super\" keyword in inheritance? Provide an example.\n",
    "#The \"super\" keyword in Python is used to call a method or constructor of the parent class (base class) within the child class (derived class). It is often used when you want to extend or modify the behavior of a method inherited from the base class.\n",
    "class Parent:\n",
    "    def __init__(self, name):\n",
    "        self.name = name\n",
    "\n",
    "class Child(Parent):\n",
    "    def __init__(self, name, age):\n",
    "        super().__init__(name) \n",
    "        self.age = age\n",
    "\n",
    "child_obj = Child(\"Alice\", 25)\n",
    "child_obj"
   ]
  },
  {
   "cell_type": "code",
   "execution_count": 15,
   "id": "98f356ed-2d37-4951-87ec-ae8e008940d5",
   "metadata": {},
   "outputs": [
    {
     "name": "stdout",
     "output_type": "stream",
     "text": [
      "Make: Toyota, Model: Camry, Year: 2022\n",
      "Fuel Type: Gasoline\n"
     ]
    }
   ],
   "source": [
    "# 6. Create a base class called \"Vehicle\" with attributes like \"make\", \"model\", and \"year\". Then, create a derived class called \"Car\" that inherits from \"Vehicle\" and adds an attribute called \"fuel_type\". Implement appropriate methods in both classes.\n",
    "class Vehicle:\n",
    "    def __init__(self, make, model, year):\n",
    "        self.make = make\n",
    "        self.model = model\n",
    "        self.year = year\n",
    "\n",
    "    def display_info(self):\n",
    "        print(f\"Make: {self.make}, Model: {self.model}, Year: {self.year}\")\n",
    "\n",
    "class Car(Vehicle):\n",
    "    def __init__(self, make, model, year, fuel_type):\n",
    "        super().__init__(make, model, year)\n",
    "        self.fuel_type = fuel_type\n",
    "\n",
    "    def display_info(self):\n",
    "        super().display_info()\n",
    "        print(f\"Fuel Type: {self.fuel_type}\")\n",
    "\n",
    "car = Car(\"Toyota\", \"Camry\", 2022, \"Gasoline\")\n",
    "car.display_info()\n"
   ]
  },
  {
   "cell_type": "code",
   "execution_count": 16,
   "id": "8e3e7074-a385-4ed2-8fde-ddbe338d3de6",
   "metadata": {},
   "outputs": [],
   "source": [
    "# 7. Create a base class called \"Employee\" with attributes like \"name\" and \"salary.\" Derive two classes, \"Manager\" and \"Developer,\" from \"Employee.\" Add an additional attribute called \"department\" for the \"Manager\" class and \"programming_language\" for the \"Developer\" class.\n",
    "class Employee:\n",
    "    def __init__(self, name, salary):\n",
    "        self.name = name\n",
    "        self.salary = salary\n",
    "\n",
    "class Manager(Employee):\n",
    "    def __init__(self, name, salary, department):\n",
    "        super().__init__(name, salary)\n",
    "        self.department = department\n",
    "\n",
    "class Developer(Employee):\n",
    "    def __init__(self, name, salary, programming_language):\n",
    "        super().__init__(name, salary)\n",
    "        self.programming_language = programming_language\n",
    "\n",
    "manager = Manager(\"John\", 75000, \"HR\")\n",
    "developer = Developer(\"Alice\", 80000, \"Python\")\n"
   ]
  },
  {
   "cell_type": "code",
   "execution_count": 17,
   "id": "da073e41-0ecd-45cd-853a-89a69a7106a3",
   "metadata": {},
   "outputs": [],
   "source": [
    "# 8. Design a base class called \"Shape\" with attributes like \"colour\" and \"border_width.\" Create derived classes, \"Rectangle\" and \"Circle,\" that inherit from \"Shape\" and add specific attributes like \"length\" and \"width\" for the \"Rectangle\" class and \"radius\" for the \"Circle\" class.\n",
    "class Shape:\n",
    "    def __init__(self, colour, border_width):\n",
    "        self.colour = colour\n",
    "        self.border_width = border_width\n",
    "\n",
    "class Rectangle(Shape):\n",
    "    def __init__(self, colour, border_width, length, width):\n",
    "        super().__init__(colour, border_width)\n",
    "        self.length = length\n",
    "        self.width = width\n",
    "\n",
    "class Circle(Shape):\n",
    "    def __init__(self, colour, border_width, radius):\n",
    "        super().__init__(colour, border_width)\n",
    "        self.radius = radius\n"
   ]
  },
  {
   "cell_type": "code",
   "execution_count": 18,
   "id": "e2c89ec3-267b-4770-ab5c-1dc9f5c8b6a9",
   "metadata": {},
   "outputs": [],
   "source": [
    "# 9. Create a base class called \"Device\" with attributes like \"brand\" and \"model.\" Derive two classes, \"Phone\" and \"Tablet,\" from \"Device.\" Add specific attributes like \"screen_size\" for the \"Phone\" class and \"battery_capacity\" for the \"Tablet\" class.\n",
    "class Device:\n",
    "    def __init__(self, brand, model):\n",
    "        self.brand = brand\n",
    "        self.model = model\n",
    "\n",
    "class Phone(Device):\n",
    "    def __init__(self, brand, model, screen_size):\n",
    "        super().__init__(brand, model)\n",
    "        self.screen_size = screen_size\n",
    "\n",
    "class Tablet(Device):\n",
    "    def __init__(self, brand, model, battery_capacity):\n",
    "        super().__init__(brand, model)\n",
    "        self.battery_capacity = battery_capacity\n"
   ]
  },
  {
   "cell_type": "code",
   "execution_count": 19,
   "id": "91b1b007-7a3b-42c2-9f04-703b3363ea19",
   "metadata": {},
   "outputs": [],
   "source": [
    "# 10. Create a base class called \"BankAccount\" with attributes like \"account_number\" and \"balance.\" Derive two classes, \"SavingsAccount\" and \"CheckingAccount,\" from \"BankAccount.\" Add specific methods like \"calculate_interest\" for the \"SavingsAccount\" class and \"deduct_fees\" for the \"CheckingAccount\" class\n",
    "class BankAccount:\n",
    "    def __init__(self, account_number, balance):\n",
    "        self.account_number = account_number\n",
    "        self.balance = balance\n",
    "\n",
    "class SavingsAccount(BankAccount):\n",
    "    def calculate_interest(self, rate):\n",
    "        return self.balance * (rate / 100)\n",
    "\n",
    "class CheckingAccount(BankAccount):\n",
    "    def deduct_fees(self, fee):\n",
    "        self.balance -= fee\n"
   ]
  },
  {
   "cell_type": "code",
   "execution_count": null,
   "id": "66eec5f6-3f06-41db-a412-06d32a8ab5f3",
   "metadata": {},
   "outputs": [],
   "source": []
  }
 ],
 "metadata": {
  "kernelspec": {
   "display_name": "Python 3 (ipykernel)",
   "language": "python",
   "name": "python3"
  },
  "language_info": {
   "codemirror_mode": {
    "name": "ipython",
    "version": 3
   },
   "file_extension": ".py",
   "mimetype": "text/x-python",
   "name": "python",
   "nbconvert_exporter": "python",
   "pygments_lexer": "ipython3",
   "version": "3.10.6"
  }
 },
 "nbformat": 4,
 "nbformat_minor": 5
}
