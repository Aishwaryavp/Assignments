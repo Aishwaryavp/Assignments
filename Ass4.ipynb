{
 "cells": [
  {
   "cell_type": "code",
   "execution_count": 2,
   "id": "3d87b643-fce0-4334-aa6e-c62c8316cf41",
   "metadata": {},
   "outputs": [
    {
     "name": "stdout",
     "output_type": "stream",
     "text": [
      "[]\n"
     ]
    }
   ],
   "source": [
    "#1.What exactly is []?\n",
    "# it's a empty list\n",
    "empty_list = []\n",
    "print(empty_list)"
   ]
  },
  {
   "cell_type": "code",
   "execution_count": 2,
   "id": "8a80798b-0e28-4deb-85d4-6049cddb1485",
   "metadata": {},
   "outputs": [
    {
     "name": "stdout",
     "output_type": "stream",
     "text": [
      "[2, 4, 'hello', 8, 10]\n"
     ]
    }
   ],
   "source": [
    "#2. In a list of values stored in a variable called spam, how would you assign the value 'hello' as the third value? (Assume [2, 4, 6, 8, 10] are in spam.)\n",
    "spam = [2, 4, 6, 8, 10] \n",
    "spam[2]= \"hello\"  # we will given the index position where we want to add \"hello\"\n",
    "print(spam)"
   ]
  },
  {
   "cell_type": "code",
   "execution_count": 21,
   "id": "5492a42a-0271-4f2b-a116-869f2b73cf0c",
   "metadata": {},
   "outputs": [
    {
     "name": "stdout",
     "output_type": "stream",
     "text": [
      "the 3rd answer is: d\n",
      "the 4th answer is: d\n",
      "the 5th answer is: ['a', 'b']\n"
     ]
    }
   ],
   "source": [
    "#Let's pretend the spam includes the list ['a', 'b', 'c', 'd'] for the next three queries.\n",
    "spam = ['a', 'b', 'c', 'd']\n",
    "#3.What is the value of spam[int(int('3' * 2) / 11)]?\n",
    "print(\"the 3rd answer is:\",spam[int(int('3' * 2) / 11)])\n",
    "#4. What is the value of spam[-1]?\n",
    "print(\"the 4th answer is:\",spam[-1])\n",
    "#5. What is the value of spam[:2]?\n",
    "print(\"the 5th answer is:\",spam[:2])"
   ]
  },
  {
   "cell_type": "code",
   "execution_count": 24,
   "id": "1969dc4e-0aa7-4fb8-834d-da9906c0a5ce",
   "metadata": {},
   "outputs": [
    {
     "name": "stdout",
     "output_type": "stream",
     "text": [
      "the 6th answer is: 1\n",
      "the 7th answer is: None\n",
      "the 8th answer is: None\n"
     ]
    }
   ],
   "source": [
    "#Let's pretend bacon has the list [3.14, 'cat,' 11, 'cat,' True] for the next three questions.\n",
    "bacon =[3.14, 'cat', 11, 'cat', True]\n",
    "#6. What is the value of bacon.index('cat')?\n",
    "print(\"the 6th answer is:\",bacon.index('cat'))\n",
    "#7. How does bacon.append(99) change the look of the list value in bacon?\n",
    "print(\"the 7th answer is:\",bacon.append(99))\n",
    "#8. How does bacon.remove('cat') change the look of the list in bacon?\n",
    "print(\"the 8th answer is:\",bacon.remove('cat'))"
   ]
  },
  {
   "cell_type": "code",
   "execution_count": 26,
   "id": "814f0f64-aa52-4c4c-b1b3-94ede62b2d21",
   "metadata": {},
   "outputs": [
    {
     "name": "stdout",
     "output_type": "stream",
     "text": [
      "[1, 2, 3, 4, 5, 6]\n",
      "[1, 2, 3, 1, 2, 3, 1, 2, 3]\n"
     ]
    }
   ],
   "source": [
    "#9. What are the list concatenation and list replication operators?\n",
    "#The list concatenation operator + is used to combine two or more lists into a single list. It creates a new list containing all the elements from the lists being concatenated, in the order they appear\n",
    "list1 = [1, 2, 3]\n",
    "list2 = [4, 5, 6]\n",
    "concatenated_list = list1 + list2\n",
    "print(concatenated_list)\n",
    "\n",
    "#The list replication operator * is used to create a new list by repeating the elements of an existing list a certain number of times.\n",
    "list1 = [1, 2, 3]\n",
    "replicated_list = list1 * 3\n",
    "print(replicated_list)\n"
   ]
  },
  {
   "cell_type": "code",
   "execution_count": 27,
   "id": "271c6e5d-4e4a-40e3-897b-85ecf848efe9",
   "metadata": {},
   "outputs": [
    {
     "name": "stdout",
     "output_type": "stream",
     "text": [
      "[1, 2, 3, 4]\n",
      "[1, 4, 2, 3]\n"
     ]
    }
   ],
   "source": [
    "#10. What is difference between the list methods append() and insert()?\n",
    "#The append() method is used to add an element to the end of the list, it takes a single argument.\n",
    "my_list = [1, 2, 3]\n",
    "my_list.append(4)\n",
    "print(my_list)\n",
    "\n",
    "#The insert() method is used to add an element at a specific index in the list. It takes two arguments: the first argument is the index at which the element should be inserted, and the second argument is the element itself.\n",
    "my_list = [1, 2, 3]\n",
    "my_list.insert(1, 4)\n",
    "print(my_list)\n"
   ]
  },
  {
   "cell_type": "code",
   "execution_count": 29,
   "id": "e007dd52-76ae-4193-8aef-dfba735a69ed",
   "metadata": {},
   "outputs": [
    {
     "name": "stdout",
     "output_type": "stream",
     "text": [
      "[1, 3, 2, 4]\n",
      "[1, 3, 4]\n",
      "2\n"
     ]
    }
   ],
   "source": [
    "#11. What are the two methods for removing items from a list?\n",
    "#remove() method:\n",
    "#The remove() method is used to remove the first occurrence of a specified element from the list.\n",
    "#It takes a single argument, which is the element to be removed.\n",
    "#If the element is found in the list, it will be removed. If the element is not present, the method will raise a ValueError.\n",
    "my_list = [1, 2, 3, 2, 4]\n",
    "my_list.remove(2)\n",
    "print(my_list)\n",
    "\n",
    "#pop() method:\n",
    "#The pop() method is used to remove and return an element from a specific index in the list.\n",
    "#It takes an optional argument, which is the index of the element to be removed. If no index is specified, it will remove and return the last element of the list.\n",
    "#The method returns the removed element, allowing you to use it if needed.\n",
    "my_list = [1, 2, 3, 4]\n",
    "removed_element = my_list.pop(1)\n",
    "print(my_list)\n",
    "print(removed_element)\n"
   ]
  },
  {
   "cell_type": "raw",
   "id": "adbabd47-ec7a-4cf6-b0cb-bef4e79791b6",
   "metadata": {},
   "source": [
    "#12. Describe how list values and string values are identical.\n",
    "List values and string values share some similarities, and these similarities make them both versatile and powerful data types in Python. Here's how list values and string values are identical:\n",
    "\n",
    "Sequential Data: Both lists and strings are sequential data types. In a string, each character is positioned in a specific index, and the order of characters matters. Similarly, in a list, each element is positioned in a specific index, and the order of elements matters too.\n",
    "\n",
    "Indexing: Both lists and strings support indexing, allowing you to access individual elements or characters using their respective index positions. For example, my_list[0] will give you the first element in the list, and my_string[0] will give you the first character in the string.\n",
    "\n",
    "Slicing: Both lists and strings support slicing, enabling you to extract portions of the data using index ranges. For example, my_list[1:4] will give you a sublist containing elements at index 1, 2, and 3, and my_string[1:4] will give you a substring containing characters at index 1, 2, and 3.\n",
    "\n",
    "Iteration: Both lists and strings can be iterated over using loops. You can use for loops to traverse through each element in a list and each character in a string.\n",
    "\n",
    "Length: Both lists and strings have a length that can be determined using the len() function. The length of a list is the number of elements it contains, and the length of a string is the number of characters it holds.\n",
    "\n",
    "Concatenation: Both lists and strings support concatenation using the + operator. For lists, it combines two lists into a new list, and for strings, it merges two strings into a new string.\n",
    "\n",
    "Repetition: Both lists and strings support repetition using the * operator. For lists, it replicates the elements, and for strings, it duplicates the characters.\n",
    "\n",
    "In Membership: Both lists and strings can be checked for membership using the in and not in operators. These operators allow you to determine whether a particular element or character exists within the list or string."
   ]
  },
  {
   "cell_type": "code",
   "execution_count": 30,
   "id": "00c3eb9e-3b77-4da0-8eb2-320514fb00bd",
   "metadata": {},
   "outputs": [
    {
     "name": "stdout",
     "output_type": "stream",
     "text": [
      "[10, 2, 3, 4]\n",
      "(1, 2, 3)\n"
     ]
    }
   ],
   "source": [
    "#13.What's the difference between tuples and lists?\n",
    "# List (mutable)\n",
    "my_list = [1, 2, 3]\n",
    "my_list[0] = 10  # Modifying the first element\n",
    "my_list.append(4)  # Adding an element\n",
    "print(my_list)  # Output: [10, 2, 3, 4]\n",
    "\n",
    "# Tuple (immutable)\n",
    "my_tuple = (1, 2, 3)\n",
    "# my_tuple[0] = 10  # This will raise a TypeError since tuples are immutable\n",
    "print(my_tuple)  # Output: (1, 2, 3)\n"
   ]
  },
  {
   "cell_type": "code",
   "execution_count": 34,
   "id": "415131a6-8068-4463-a8ac-113e645814c7",
   "metadata": {},
   "outputs": [
    {
     "name": "stdout",
     "output_type": "stream",
     "text": [
      "42\n"
     ]
    }
   ],
   "source": [
    "#14. How do you type a tuple value that only contains the integer 42?\n",
    "my_tuple = (42)\n",
    "print(my_tuple)"
   ]
  },
  {
   "cell_type": "code",
   "execution_count": 37,
   "id": "b0671c95-4b2a-4a3b-a2e3-fd669bc71786",
   "metadata": {},
   "outputs": [
    {
     "name": "stdout",
     "output_type": "stream",
     "text": [
      "(1, 2, 3, 4)\n",
      "[1, 2, 3, 4]\n"
     ]
    }
   ],
   "source": [
    "#15. How do you get a list value's tuple form? How do you get a tuple value's list form?\n",
    "#Convert a List to a Tuple:\n",
    "my_list = [1, 2, 3, 4]\n",
    "my_tuple = tuple(my_list)\n",
    "print(my_tuple)\n",
    "\n",
    "#Convert a Tuple to a List:\n",
    "my_tuple = (1, 2, 3, 4)\n",
    "my_list = list(my_tuple)\n",
    "print(my_list)\n"
   ]
  },
  {
   "cell_type": "code",
   "execution_count": 40,
   "id": "882a96fe-9f1e-4589-9e1e-c3264e4f7922",
   "metadata": {},
   "outputs": [
    {
     "name": "stdout",
     "output_type": "stream",
     "text": [
      "[1, 2, 3, 4]\n",
      "[1, 2, 3, 4]\n"
     ]
    }
   ],
   "source": [
    "#16. Variables that \"contain\" list values are not necessarily lists themselves. Instead, what do they contain?\n",
    "#In Python, when we assign a list to a variable, the variable does not directly hold the list's elements. Instead, it stores a reference to the memory location where the list is stored. This reference is like a pointer that allows the variable to access and work with the list's elements indirectly\n",
    "my_list = [1, 2, 3]\n",
    "# The variable 'my_list' holds a reference to the list in memory\n",
    "# The actual list elements are stored in a separate memory location\n",
    "another_list = my_list\n",
    "# Both 'my_list' and 'another_list' now refer to the same list in memory\n",
    "# Modifying the list through one variable affects the other variable as well\n",
    "another_list.append(4)\n",
    "print(my_list)\n",
    "print(another_list)"
   ]
  },
  {
   "cell_type": "code",
   "execution_count": 42,
   "id": "c779631f-e9d6-4c57-a51c-fa6270f15471",
   "metadata": {},
   "outputs": [
    {
     "name": "stdout",
     "output_type": "stream",
     "text": [
      "[1, 2, [99, 4]]\n",
      "[1, 2, [99, 4]]\n",
      "[1, 2, [99, 4]]\n"
     ]
    }
   ],
   "source": [
    "#17. How do you distinguish between copy.copy() and copy.deepcopy()?\n",
    "#copy.copy():\n",
    "#The copy.copy() method is used to create a shallow copy of an object.\n",
    "#copy.copy() is sufficient for creating copies of simple objects like lists, dictionaries, tuples, etc., where there are no nested objects or the nested objects are mutable (e.g., lists inside lists).\n",
    "import copy\n",
    "original_list = [1, 2, [3, 4]]\n",
    "copied_list = copy.copy(original_list)\n",
    "copied_list[2][0] = 99\n",
    "print(original_list)  \n",
    "print(copied_list)   \n",
    "\n",
    "#copy.deepcopy():\n",
    "#The copy.deepcopy() method is used to create a deep copy of an object.\n",
    "#copy.deepcopy() is useful when you need to create an entirely independent copy of an object, especially if the object contains nested objects or if the nested objects are mutable.\n",
    "deep_copied_list = copy.deepcopy(original_list)\n",
    "deep_copied_list[2][0] = 99\n",
    "print(deep_copied_list) "
   ]
  },
  {
   "cell_type": "code",
   "execution_count": null,
   "id": "05e5c597-4acb-457d-a902-1e7fe5b33ca1",
   "metadata": {},
   "outputs": [],
   "source": []
  }
 ],
 "metadata": {
  "kernelspec": {
   "display_name": "Python 3 (ipykernel)",
   "language": "python",
   "name": "python3"
  },
  "language_info": {
   "codemirror_mode": {
    "name": "ipython",
    "version": 3
   },
   "file_extension": ".py",
   "mimetype": "text/x-python",
   "name": "python",
   "nbconvert_exporter": "python",
   "pygments_lexer": "ipython3",
   "version": "3.10.6"
  }
 },
 "nbformat": 4,
 "nbformat_minor": 5
}
