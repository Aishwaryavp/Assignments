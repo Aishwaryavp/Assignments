{
 "cells": [
  {
   "cell_type": "code",
   "execution_count": 3,
   "id": "51efafed-69d5-4251-9a83-abca8e29a90e",
   "metadata": {},
   "outputs": [
    {
     "name": "stdout",
     "output_type": "stream",
     "text": [
      "['False', 'None', 'True', 'and', 'as', 'assert', 'async', 'await', 'break', 'class', 'continue', 'def', 'del', 'elif', 'else', 'except', 'finally', 'for', 'from', 'global', 'if', 'import', 'in', 'is', 'lambda', 'nonlocal', 'not', 'or', 'pass', 'raise', 'return', 'try', 'while', 'with', 'yield']\n"
     ]
    }
   ],
   "source": [
    "# 1. Answer\n",
    "\n",
    "import keyword\n",
    "print(keyword. kwlist)"
   ]
  },
  {
   "cell_type": "code",
   "execution_count": 4,
   "id": "031c6750-f10c-4327-b4ee-9e4f51c40bb1",
   "metadata": {},
   "outputs": [],
   "source": [
    "# 2. Answer\n",
    "\n",
    "# Rules for Python variables:\n",
    "# A variable name must start with a letter or the underscore character.\n",
    "# A variable name cannot start with a number.\n",
    "# A variable name can only contain alpha-numeric characters and underscores (A-z, 0-9, and _ )\n",
    "# Variable names are case-sensitive (age, Age and AGE are three different variables)"
   ]
  },
  {
   "cell_type": "code",
   "execution_count": null,
   "id": "64695f44-b939-45df-99cd-073ddaa846b2",
   "metadata": {},
   "outputs": [],
   "source": [
    "# 3. Answer\n",
    "#variable names can be any length and can consist of uppercase and lowercase letters ( A-Z , a-z ), digits ( 0-9 ), and the underscore character ( _ ).\n",
    "#An additional restriction is that, although a variable name can contain digits, the first character of a variable name can't be a digit.\n"
   ]
  },
  {
   "cell_type": "code",
   "execution_count": 9,
   "id": "160bd519-c744-4e6d-8500-4015454e03c7",
   "metadata": {},
   "outputs": [
    {
     "ename": "SyntaxError",
     "evalue": "cannot assign to True (459935552.py, line 3)",
     "output_type": "error",
     "traceback": [
      "\u001b[0;36m  Cell \u001b[0;32mIn [9], line 3\u001b[0;36m\u001b[0m\n\u001b[0;31m    True = \"true\" # cannot be assigned, it throws an error\u001b[0m\n\u001b[0m    ^\u001b[0m\n\u001b[0;31mSyntaxError\u001b[0m\u001b[0;31m:\u001b[0m cannot assign to True\n"
     ]
    }
   ],
   "source": [
    "# 4. Answer\n",
    "\n",
    "#keyword should not be used as a variable name because it is a pre-defined. If we assign, tthen it will throw an error\n",
    "#for example>> SyntaxError: cannot assign to True\n",
    "True = \"true\" # cannot be assigned, it throws an error"
   ]
  },
  {
   "cell_type": "code",
   "execution_count": 8,
   "id": "281e3f5b-fac4-4dc8-8e18-83af75f3b103",
   "metadata": {},
   "outputs": [],
   "source": [
    "# 5. Answer\n",
    "\n",
    "#def() is used to create or define a function, we can create our own function"
   ]
  },
  {
   "cell_type": "code",
   "execution_count": 11,
   "id": "479ac027-8bd7-4813-8712-f13f076e5977",
   "metadata": {},
   "outputs": [],
   "source": [
    "# 6. Answer\n",
    "\n",
    "# '/' is used to write or continue the code /\n",
    "# in a next line without changing the meaning, /\n",
    "# so that we can visualise the written code "
   ]
  },
  {
   "cell_type": "code",
   "execution_count": 14,
   "id": "544e08ae-d071-46fc-8722-781f5a62a2e7",
   "metadata": {},
   "outputs": [
    {
     "name": "stdout",
     "output_type": "stream",
     "text": [
      "['apple', 'banana', 'cherry']\n",
      "{('apple', 3), ('pear', 4), ('banana', 4), ('orange', 1)}\n",
      "('apple', 'banana', 'cherry', 'orange')\n"
     ]
    }
   ],
   "source": [
    "# 7. Answer\n",
    "\n",
    "#Homegenous List example >> All datatypes are same\n",
    "fruits = [\"apple\",\"banana\",\"cherry\"]\n",
    "print(fruits)\n",
    "\n",
    "#Heterogenous set example >> All datatypes aren't same\n",
    "items = {('apple', 3), ('banana', 4) , ('orange', 1), ('pear', 4)}\n",
    "print(items)\n",
    "\n",
    "#Homegenous tuple example >> All datatypes are same\n",
    "fruits2 = (\"apple\",\"banana\",\"cherry\",\"orange\")\n",
    "print(fruits2)"
   ]
  },
  {
   "cell_type": "code",
   "execution_count": 15,
   "id": "0555c22c-239c-40da-8fbf-f25e56dc7c2d",
   "metadata": {},
   "outputs": [],
   "source": [
    "# 8. Answer\n",
    "\n",
    "#mutable data types :\n",
    "#In mutable data types, we can modify the already existing values of the data types (such as lists, dictionaries, etc.). Or, we may add new values or remove the existing values from our data types. Basically, we may perform any operation with our data without having to create a new copy of our data type. Hence, the value assigned to any variable can be changed.\n",
    "#There are basically 3 mutable data types in Python:\n",
    "# List, Dictionary, Set\n",
    "\n",
    "#Immutable data types :\n",
    "#the value assigned to a variable cannot be changed for the immutable data types. For example, String is an immutable data type in Python. We cannot change its content, otherwise, we may fall into a TypeError. Even if we assign any new content to immutable objects, then a new object is created (instead of the original being modified).\n",
    "#There are examples of immmutable data types in Python:\n",
    "#tuples, int, float, bool, frozenset."
   ]
  },
  {
   "cell_type": "code",
   "execution_count": 4,
   "id": "882cb399-2644-4594-8c8b-89d1c11d83ba",
   "metadata": {},
   "outputs": [
    {
     "name": "stdout",
     "output_type": "stream",
     "text": [
      "* \n",
      "* * * \n",
      "* * * * * \n",
      "* * * * * * * \n",
      "* * * * * * * * * \n"
     ]
    }
   ],
   "source": [
    "# 9. Answer\n",
    "\n",
    "for i in range(0,9,2):\n",
    "    for j in range(i+1):\n",
    "      print(\"*\",end=\" \")\n",
    "    print()\n"
   ]
  },
  {
   "cell_type": "code",
   "execution_count": 7,
   "id": "74b4be86-d49e-4ce0-b9bb-1ca646c057f4",
   "metadata": {},
   "outputs": [
    {
     "name": "stdout",
     "output_type": "stream",
     "text": [
      "|||||\n",
      "||||\n",
      "|||\n",
      "||\n",
      "|\n"
     ]
    }
   ],
   "source": [
    "# 10. Answer\n",
    "\n",
    "rows = 5\n",
    "count = rows\n",
    "\n",
    "while count >= 1:\n",
    "    print('|' * count)\n",
    "    count -= 1"
   ]
  },
  {
   "cell_type": "code",
   "execution_count": null,
   "id": "2962974b-82a3-46d9-90a3-84292681423e",
   "metadata": {},
   "outputs": [],
   "source": []
  },
  {
   "cell_type": "code",
   "execution_count": null,
   "id": "26041cc5-23cd-42ac-ae50-d995f559809b",
   "metadata": {},
   "outputs": [],
   "source": []
  }
 ],
 "metadata": {
  "kernelspec": {
   "display_name": "Python 3 (ipykernel)",
   "language": "python",
   "name": "python3"
  },
  "language_info": {
   "codemirror_mode": {
    "name": "ipython",
    "version": 3
   },
   "file_extension": ".py",
   "mimetype": "text/x-python",
   "name": "python",
   "nbconvert_exporter": "python",
   "pygments_lexer": "ipython3",
   "version": "3.10.6"
  }
 },
 "nbformat": 4,
 "nbformat_minor": 5
}
