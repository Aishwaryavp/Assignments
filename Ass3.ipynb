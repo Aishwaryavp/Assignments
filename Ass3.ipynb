{
 "cells": [
  {
   "cell_type": "markdown",
   "id": "5d87d7a3-1424-4b54-9603-7aaa89a31561",
   "metadata": {},
   "source": [
    "1.Why are functions advantageous to have in your programs?\n",
    "\n",
    "#Functions are advantageous because they promote code reusability, improve code organization, and make the code easier to maintain. By breaking down complex tasks into smaller, modular functions, you can avoid writing redundant code and easily make changes to specific parts of your program without affecting the entire codebase.\n",
    "\n",
    "2.When does the code in a function run: when it's specified or when it's called?\n",
    "\n",
    "#The code inside a function runs when the function is called. Defining a function only creates the function and sets it up for execution, but the actual execution of the code inside the function occurs when the function is called with its name and appropriate arguments.\n",
    "\n",
    "3.What statement creates a function?\n",
    "\n",
    "#The def statement is used to create a function in Python. It is followed by the function name, a set of parentheses for the function parameters (if any), and a colon. The code block indented under the def statement defines the function's body.\n",
    "\n",
    "4.What is the difference between a function and a function call?\n",
    "\n",
    "#A function is a named block of code designed to perform a specific task or set of tasks when called. It defines the logic and actions to be taken. A function call, on the other hand, is the actual execution of the function at a particular point in the program. It involves using the function's name along with any required arguments in the parentheses.\n",
    "\n",
    "5.How many global scopes are there in a Python program? How many local scopes?\n",
    "\n",
    "#In a Python program, there is one global scope, which is the scope outside of any function or code block. It persists throughout the entire program. On the other hand, there can be multiple local scopes, which are created whenever a function is called. Each function call creates its own local scope, and when the function returns, the local scope is destroyed.\n",
    "\n",
    "6.What happens to variables in a local scope when the function call returns?\n",
    "\n",
    "#When a function call returns, the local scope associated with that function is destroyed, and any variables defined in that local scope cease to exist. The data stored in those local variables is not accessible or retained after the function call has completed its execution.\n",
    "\n",
    "7.What is the concept of a return value? Is it possible to have a return value in an expression?\n",
    "\n",
    "#The concept of a return value refers to the value that a function can send back to the caller after completing its task. A return value is specified using the return statement within the function. Yes, it is possible to have a return value in an expression. You can use the return value of a function call directly in an expression or assign it to a variable.\n",
    "\n",
    "8.If a function does not have a return statement, what is the return value of a call to that function?\n",
    "\n",
    "#If a function does not have a return statement, it implicitly returns None by default. None is a special Python object that represents the absence of a value. So, when a function without a return statement is called, it returns None.\n",
    "\n",
    "9.How do you make a function variable refer to the global variable?\n",
    "\n",
    "#To make a function variable refer to a global variable, you can use the global keyword before the variable name inside the function. This tells Python that you want to use the global variable with the same name rather than creating a new local variable.\n",
    "\n",
    "10.What is the data type of None?\n",
    "\n",
    "#The data type of None is NoneType. In Python, None is a special constant used to represent the absence of a value or to indicate a null value.\n",
    "\n",
    "11.What does the sentence import areallyourpetsnamederic do?\n",
    "\n",
    "#The sentence import areallyourpetsnamederic is not a valid Python import statement, and it will raise a ModuleNotFoundError because there is no Python module named areallyourpetsnamederic. Import statements are used to bring functionality from existing Python modules into your code.\n",
    "\n",
    "12.If you had a bacon() feature in a spam module, what would you call it after importing spam?\n",
    "\n",
    "#If you have a bacon() function inside a spam module, you can call it after importing the spam module using the dot notation like this:\n",
    "import spam\n",
    "spam.bacon()\n",
    "\n",
    "13.What can you do to save a program from crashing if it encounters an error?\n",
    "\n",
    "#To save a program from crashing when it encounters an error, you can use error handling techniques. One common approach is to use try and except blocks. The try block contains the code that might raise an exception, and the except block handles the exception and allows the program to gracefully recover from errors.\n",
    "\n",
    "14.What is the purpose of the try clause? What is the purpose of the except clause?\n",
    "\n",
    "#try clause: The try clause is used to enclose the code that might raise an exception or error. It allows you to test a block of code for potential errors.\n",
    "\n",
    "#except clause: The except clause is used to define the block of code that will be executed if an exception occurs within the corresponding try block. It catches the raised exception and allows you to handle it gracefully, preventing the program from crashing."
   ]
  },
  {
   "cell_type": "code",
   "execution_count": null,
   "id": "e2986ba8-254f-4847-8054-6bf0803d97c2",
   "metadata": {},
   "outputs": [],
   "source": []
  }
 ],
 "metadata": {
  "kernelspec": {
   "display_name": "Python 3 (ipykernel)",
   "language": "python",
   "name": "python3"
  },
  "language_info": {
   "codemirror_mode": {
    "name": "ipython",
    "version": 3
   },
   "file_extension": ".py",
   "mimetype": "text/x-python",
   "name": "python",
   "nbconvert_exporter": "python",
   "pygments_lexer": "ipython3",
   "version": "3.10.6"
  }
 },
 "nbformat": 4,
 "nbformat_minor": 5
}
