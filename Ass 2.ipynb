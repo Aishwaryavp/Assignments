{
 "cells": [
  {
   "cell_type": "code",
   "execution_count": 3,
   "id": "6f74d4cd-1218-43de-9479-73b02f55456a",
   "metadata": {},
   "outputs": [],
   "source": [
    "#1.What are the two values of the Boolean data type? How do you write them?\n",
    "#Answer:#True: Represents a true or \"on\" state. It is often represented as the value True in programming languages.\n",
    "#False: Represents a false or \"off\" state. It is often represented as the value False in programming languages.\n",
    "x = True\n",
    "y = False"
   ]
  },
  {
   "cell_type": "code",
   "execution_count": 1,
   "id": "d75603ce-58f3-4ed5-93a6-3bdba86cef2b",
   "metadata": {},
   "outputs": [],
   "source": [
    "#2. What are the three different types of Boolean operators?\n",
    "#AND: The AND operator returns True if both operands are True, otherwise, it returns False. It is denoted by the symbol && in some programming languages and and in others.\n",
    "\n",
    "#OR: The OR operator returns True if at least one of the operands is True, otherwise, it returns False. It is denoted by the symbol || in some programming languages and or in others.\n",
    "\n",
    "#NOT: The NOT operator is a unary operator that negates the value of the operand. If the operand is True, it returns False, and if the operand is False, it returns True. It is denoted by the symbol ! in some programming languages and not in others."
   ]
  },
  {
   "cell_type": "code",
   "execution_count": 2,
   "id": "5a8809d4-f1ad-49fc-bce1-3096172008da",
   "metadata": {},
   "outputs": [],
   "source": [
    "#3. Make a list of each Boolean operator's truth tables (i.e. every possible combination of Boolean values for the operator and what it evaluate ).\n",
    "# AND Operator (&& or and):\n",
    "\n",
    "# Oprd1\t Oprd2\tResult\n",
    "# True\t True\tTrue\n",
    "# True\t False\tFalse\n",
    "# False  True\tFalse\n",
    "# False  False\tFalse\n",
    "\n",
    "# OR Operator (|| or or):\n",
    "\n",
    "# Oprd1\t Oprd2\tResult\n",
    "# True\t True\tTrue\n",
    "# True\t False\tTrue\n",
    "# False\t True\tTrue\n",
    "# False  False\tFalse\n",
    "\n",
    "# NOT Operator (! or not):\n",
    "\n",
    "# Operand\t Result\n",
    "# True\t     False\n",
    "# False\t     True"
   ]
  },
  {
   "cell_type": "code",
   "execution_count": 5,
   "id": "81b14fbf-6899-4291-a137-d3e035bf0bc8",
   "metadata": {},
   "outputs": [
    {
     "name": "stdout",
     "output_type": "stream",
     "text": [
      "False\n",
      "False\n",
      "True\n",
      "False\n",
      "False\n",
      "True\n"
     ]
    }
   ],
   "source": [
    "#4. What are the values of the following expressions?\n",
    "print((5 > 4) and (3 == 5))\n",
    "print(not (5 > 4))\n",
    "print((5 > 4) or (3 == 5))\n",
    "print(not ((5 > 4) or (3 == 5)))\n",
    "print((True and True) and (True == False))\n",
    "print((not False) or (not True))"
   ]
  },
  {
   "cell_type": "code",
   "execution_count": 6,
   "id": "7f6ac06a-f50a-44e6-85db-8453230ab4a6",
   "metadata": {},
   "outputs": [],
   "source": [
    "#5. What are the six comparison operators?\n",
    "#Equal to (==): Checks if two values are equal. Returns True if they are equal, otherwise False.\n",
    "\n",
    "#Not equal to (!=): Checks if two values are not equal. Returns True if they are not equal, otherwise False.\n",
    "\n",
    "#Greater than (>): Checks if the left operand is greater than the right operand. Returns True if it is, otherwise False.\n",
    "\n",
    "#Less than (<): Checks if the left operand is less than the right operand. Returns True if it is, otherwise False.\n",
    "\n",
    "#Greater than or equal to (>=): Checks if the left operand is greater than or equal to the right operand. Returns True if it is, otherwise False.\n",
    "\n",
    "#Less than or equal to (<=): Checks if the left operand is less than or equal to the right operand. Returns True if it is, otherwise False."
   ]
  },
  {
   "cell_type": "code",
   "execution_count": 7,
   "id": "d1ed8d1a-dfb5-4bf8-b20d-15a66eaad054",
   "metadata": {},
   "outputs": [
    {
     "name": "stdout",
     "output_type": "stream",
     "text": [
      "x and y are not equal.\n"
     ]
    }
   ],
   "source": [
    "#6. How do you tell the difference between the equal to and assignment operators?Describe a condition and when you would use one.\n",
    "\n",
    "#Equal to Operator (==): The equal to operator (==) is a comparison operator used to check whether two values are equal. It returns a Boolean value (True or False) based on the comparison of the values on its left and right sides. It is commonly used in conditional statements and expressions to evaluate equality between variables or values.\n",
    "\n",
    "#Assignment Operator (=): The assignment operator (=) is used to assign a value to a variable. It takes the value on its right side and assigns it to the variable on its left side. It does not compare values; instead, it performs an assignment operation.\n",
    "# example\n",
    "x = 5\n",
    "y = 7\n",
    "\n",
    "if x == y:\n",
    "    print(\"x and y are equal.\")\n",
    "else:\n",
    "    print(\"x and y are not equal.\")\n"
   ]
  },
  {
   "cell_type": "code",
   "execution_count": 9,
   "id": "5518f8db-c5bb-40b7-8a20-9810902aec2f",
   "metadata": {},
   "outputs": [
    {
     "name": "stdout",
     "output_type": "stream",
     "text": [
      "ham\n",
      "spam\n",
      "spam\n"
     ]
    }
   ],
   "source": [
    "#7. Identify the three blocks in this code:\n",
    "#before\n",
    "# spam = 0\n",
    "# if spam == 10:\n",
    "# print('eggs') # indentation was given proper\n",
    "# if spam > 5:\n",
    "# print('bacon') # indentation was given proper\n",
    "# else:\n",
    "# print('ham') # indentation was given proper\n",
    "# print('spam')\n",
    "# print('spam')\n",
    "\n",
    "# after \n",
    "spam = 0\n",
    "if spam == 10:\n",
    "    print('eggs')\n",
    "if spam > 5:\n",
    "    print('bacon')\n",
    "else:\n",
    "    print('ham')\n",
    "print('spam')\n",
    "print('spam')\n",
    "\n"
   ]
  },
  {
   "cell_type": "code",
   "execution_count": 10,
   "id": "4107c045-6efd-4a50-ad63-85647c59b812",
   "metadata": {},
   "outputs": [
    {
     "name": "stdout",
     "output_type": "stream",
     "text": [
      "Hello\n"
     ]
    }
   ],
   "source": [
    "#8. Write code that prints Hello if 1 is stored in spam, prints Howdy if 2 is stored in spam, and prints Greetings! if anything else is stored in spam.\n",
    "spam = 1 \n",
    "\n",
    "if spam == 1:\n",
    "    print('Hello')\n",
    "elif spam == 2:\n",
    "    print('Howdy')\n",
    "else:\n",
    "    print('Greetings!')\n"
   ]
  },
  {
   "cell_type": "code",
   "execution_count": 11,
   "id": "5e87f294-abb7-4529-9ff9-a1ca03575cca",
   "metadata": {},
   "outputs": [],
   "source": [
    "#9.If your programme is stuck in an endless loop, what keys you’ll press?\n",
    "#Windows/Linux: Press Ctrl + C to interrupt the program and force it to stop\n",
    "#Mac: Press Command + .\n",
    "#pressing Ctrl + C or Command + . will stop the program from running and allow you to regain control of the command line or terminal\n"
   ]
  },
  {
   "cell_type": "code",
   "execution_count": 18,
   "id": "ea5d4cc4-04a1-4672-873d-3c845db7058b",
   "metadata": {},
   "outputs": [
    {
     "name": "stdout",
     "output_type": "stream",
     "text": [
      "0\n",
      "1\n",
      "2\n",
      "__________\n",
      "0\n",
      "1\n",
      "3\n",
      "4\n"
     ]
    }
   ],
   "source": [
    "#10. How can you tell the difference between break and continue?\n",
    "#break: The break statement is used to exit the loop prematurely when a certain condition is met. Once the break statement is encountered within the loop, the loop immediately terminates, and the program execution continues with the code after the loop. It effectively \"breaks out\" of the loop, regardless of whether the loop's condition is still true or not.\n",
    "for i in range(5):\n",
    "    if i == 3:\n",
    "        break\n",
    "    print(i)\n",
    "print(\"__________\")\n",
    "\n",
    "#continue: The continue statement is used to skip the rest of the current iteration and move to the next iteration of the loop. When the continue statement is encountered, the remaining code inside the loop for the current iteration is skipped, and the next iteration starts immediately.\n",
    "for i in range(5):\n",
    "    if i == 2:\n",
    "        continue\n",
    "    print(i)\n"
   ]
  },
  {
   "cell_type": "code",
   "execution_count": 17,
   "id": "4642c6ab-0ad0-4651-a132-e1bd64480762",
   "metadata": {},
   "outputs": [
    {
     "name": "stdout",
     "output_type": "stream",
     "text": [
      "0\n",
      "1\n",
      "2\n",
      "3\n",
      "4\n",
      "5\n",
      "6\n",
      "7\n",
      "8\n",
      "9\n",
      "__________\n",
      "0\n",
      "1\n",
      "2\n",
      "3\n",
      "4\n",
      "5\n",
      "6\n",
      "7\n",
      "8\n",
      "9\n",
      "__________\n",
      "0\n",
      "1\n",
      "2\n",
      "3\n",
      "4\n",
      "5\n",
      "6\n",
      "7\n",
      "8\n",
      "9\n"
     ]
    }
   ],
   "source": [
    "#11. In a for loop, what is the difference between range(10), range(0, 10), and range(0, 10, 1)?\n",
    "#range(10): This form of range generates a sequence of numbers starting from 0 (inclusive) up to, but not including, the specified stop value, which is 10 in this case. It will produce the numbers 0, 1, 2, 3, 4, 5, 6, 7, 8, and 9.\n",
    "for i in range(10):\n",
    "    print(i)\n",
    "print(\"__________\")\n",
    "#range(0, 10): This form of range also generates a sequence of numbers starting from the specified start value (0) up to, but not including, the specified stop value (10). It will produce the same numbers as range(10).\n",
    "for i in range(0, 10):\n",
    "    print(i)\n",
    "print(\"__________\")\n",
    "#range(0, 10, 1): This form of range generates a sequence of numbers starting from the specified start value (0) up to, but not including, the specified stop value (10), with a step value of 1. Since the step value is 1, it increments by 1 at each iteration. It will produce the same numbers as range(10) and range(0, 10).\n",
    "for i in range(0, 10, 1):\n",
    "    print(i)\n"
   ]
  },
  {
   "cell_type": "code",
   "execution_count": 22,
   "id": "0fe6e899-a95a-4158-897e-fb4077be5f28",
   "metadata": {},
   "outputs": [
    {
     "name": "stdout",
     "output_type": "stream",
     "text": [
      "1\n",
      "2\n",
      "3\n",
      "4\n",
      "5\n",
      "6\n",
      "7\n",
      "8\n",
      "9\n",
      "10\n",
      "-------------\n",
      "1\n",
      "2\n",
      "3\n",
      "4\n",
      "5\n",
      "6\n",
      "7\n",
      "8\n",
      "9\n",
      "10\n"
     ]
    }
   ],
   "source": [
    "#12. Write a short program that prints the numbers 1 to 10 using a for loop. Then write an equivalent program that prints the numbers 1 to 10 using a while loop.\n",
    "for i in range(1,11):\n",
    "    print(i)\n",
    "\n",
    "print(\"-------------\")\n",
    "\n",
    "num = 1\n",
    "while num<= 10:\n",
    "    print(num)\n",
    "    num += 1"
   ]
  },
  {
   "cell_type": "code",
   "execution_count": 25,
   "id": "0c1a010d-ddc3-4cbe-94ab-48f79fe8ad13",
   "metadata": {},
   "outputs": [],
   "source": [
    "#13. If you had a function named bacon() inside a module named spam, how would you call it after importing spam?\n",
    "#If we have a function named bacon() inside a module named spam, you can call it after importing the spam module using the dot notation"
   ]
  },
  {
   "cell_type": "code",
   "execution_count": null,
   "id": "1ab3a520-8cbf-45f1-a884-0e795be9b294",
   "metadata": {},
   "outputs": [],
   "source": []
  }
 ],
 "metadata": {
  "kernelspec": {
   "display_name": "Python 3 (ipykernel)",
   "language": "python",
   "name": "python3"
  },
  "language_info": {
   "codemirror_mode": {
    "name": "ipython",
    "version": 3
   },
   "file_extension": ".py",
   "mimetype": "text/x-python",
   "name": "python",
   "nbconvert_exporter": "python",
   "pygments_lexer": "ipython3",
   "version": "3.10.6"
  }
 },
 "nbformat": 4,
 "nbformat_minor": 5
}
