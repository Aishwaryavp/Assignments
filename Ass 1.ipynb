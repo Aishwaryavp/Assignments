{
 "cells": [
  {
   "cell_type": "code",
   "execution_count": null,
   "id": "9a24e14b-a056-412e-bdb8-4bcd9f6e1495",
   "metadata": {},
   "outputs": [],
   "source": [
    "#1. In the below elements which of them are values or an expression? eg:- values can be integer or string and expressions will be mathematical operators.\n",
    "* :Expression\n",
    "'hello':value\n",
    "-87.8 :value\n",
    "- : Expression\n",
    "/ : Expression\n",
    "+ : Expression\n",
    "6 :value\n"
   ]
  },
  {
   "cell_type": "code",
   "execution_count": 2,
   "id": "e355d3bc-ca16-45b1-90a0-302908ed6d63",
   "metadata": {},
   "outputs": [],
   "source": [
    "#2. What is the difference between string and variable?\n",
    "#Variable Definition: In Python, a variable is a named location used to store data in memory.\n",
    "#Declaration and Assignment: Variables are declared by writing the variable name and assigning it a value using the equals sign (=)\n",
    "a = 5\n",
    "st = \"hello\"\n",
    "\n",
    "#string : Strings in Python are sequences of character data. They are created by enclosing characters in quotes.\n",
    "s = \"Hello, World!\"\n"
   ]
  },
  {
   "cell_type": "code",
   "execution_count": 3,
   "id": "cf589265-bd9e-41b6-b5e5-e867ac6721f7",
   "metadata": {},
   "outputs": [],
   "source": [
    "#3. Describe three different data types.\n",
    "# Integer:The integer data type represents whole numbers without any decimal point. Positive, negative, and zero values can be stored as integers.\n",
    "age = 30\n",
    "# Float:The float data type represents numbers with a decimal point. It is used to store real numbers, including both integer and fractional parts\n",
    "pi = 3.14\n",
    "# Boolean:The boolean data type has only two possible values: True or False. Booleans are used to represent logical values in decision-making processes\n",
    "is_that = True\n"
   ]
  },
  {
   "cell_type": "code",
   "execution_count": 4,
   "id": "43f4d6e1-ecbb-42d6-9fd2-481d5b0b06e0",
   "metadata": {},
   "outputs": [
    {
     "name": "stdout",
     "output_type": "stream",
     "text": [
      "11\n"
     ]
    }
   ],
   "source": [
    "#4. What is an expression made up of? What do all expressions do?\n",
    "#Expression : An expression is a combination of values, variables, operators, and function calls that can be evaluated to produce a single value. In other words, an expression is a representation of a computation in a programming language\n",
    "#The primary purpose of an expression is to be evaluated and allow you to perform various operations on data, such as arithmetic calculations, logical operations, and string manipulations\n",
    "#Expressions can be used to assign values to variables. For example:\n",
    "x = 1+10\n",
    "print(x)"
   ]
  },
  {
   "cell_type": "code",
   "execution_count": 5,
   "id": "ab83b106-83ca-45f8-a41c-88bee4fc6ead",
   "metadata": {},
   "outputs": [
    {
     "name": "stdout",
     "output_type": "stream",
     "text": [
      "11\n"
     ]
    }
   ],
   "source": [
    "#5. This assignment statements, like spam = 10. What is the difference between an expression and a statement?\n",
    "# Assignment Operators: Used to assign values to variables.\n",
    "##Expression : An expression is a combination of values, variables, operators, and function calls that can be evaluated to produce a single value. In other words, an expression is a representation of a computation in a programming language\n",
    "#The primary purpose of an expression is to be evaluated and allow you to perform various operations on data, such as arithmetic calculations, logical operations, and string manipulations\n",
    "#Expressions can be used to assign values to variables. For example:\n",
    "x = 1+10\n",
    "print(x)"
   ]
  },
  {
   "cell_type": "code",
   "execution_count": 6,
   "id": "f208f748-4777-4f15-b94b-1368254fe5f8",
   "metadata": {},
   "outputs": [
    {
     "data": {
      "text/plain": [
       "23"
      ]
     },
     "execution_count": 6,
     "metadata": {},
     "output_type": "execute_result"
    }
   ],
   "source": [
    "#6. After running the following code, what does the variable bacon contain?\n",
    "bacon = 22\n",
    "bacon + 1\n",
    "# Answer: 23"
   ]
  },
  {
   "cell_type": "code",
   "execution_count": 8,
   "id": "a9042424-1614-4a95-80fb-4710feddfdc1",
   "metadata": {},
   "outputs": [
    {
     "name": "stdout",
     "output_type": "stream",
     "text": [
      "spamspamspam\n",
      "spamspamspam\n"
     ]
    }
   ],
   "source": [
    "# 7. What should the values of the following two terms be?\n",
    "print('spam' + 'spamspam')\n",
    "print('spam' * 3)\n"
   ]
  },
  {
   "cell_type": "code",
   "execution_count": 9,
   "id": "1de204f8-12bf-4fdd-8d1a-3ad65684c7af",
   "metadata": {},
   "outputs": [],
   "source": [
    "#8. Why is eggs a valid variable name while 100 is invalid?\n",
    "# Answer: variable name should always start with an alphabet but not with numbers"
   ]
  },
  {
   "cell_type": "code",
   "execution_count": null,
   "id": "f77c6cf1-8588-4492-8558-f615b2d58437",
   "metadata": {},
   "outputs": [],
   "source": [
    "#9. What three functions can be used to get the integer, floating-point number, or string version of a value?\n",
    "x = int(\"10\") \n",
    "y = float(\"3.14\")\n",
    "name = \"Alice\"\n",
    "z = str(25)\n",
    "print(name+z)"
   ]
  },
  {
   "cell_type": "code",
   "execution_count": null,
   "id": "3a244576-d127-4b2e-941b-fe011eec8383",
   "metadata": {},
   "outputs": [],
   "source": [
    "#10. Why does this expression cause an error? How can you fix it?\n",
    "#'I have eaten ' + 99 + ' burritos.'\n",
    "# Beacuse we are attempting to concatenate a string with an integer directly using the + operator. In Python, concatenation using the + operator is only allowed when both operands are strings.\n",
    "# To fix the error and perform the concatenation correctly, you need to convert the integer 99 to a string before concatenating it with the other strings\n",
    "print('I have eaten ' + str(99) + ' burritos.')\n"
   ]
  },
  {
   "cell_type": "code",
   "execution_count": null,
   "id": "9591480b-38cc-4614-a8d4-8c98d9264db1",
   "metadata": {},
   "outputs": [],
   "source": []
  }
 ],
 "metadata": {
  "kernelspec": {
   "display_name": "Python 3 (ipykernel)",
   "language": "python",
   "name": "python3"
  },
  "language_info": {
   "codemirror_mode": {
    "name": "ipython",
    "version": 3
   },
   "file_extension": ".py",
   "mimetype": "text/x-python",
   "name": "python",
   "nbconvert_exporter": "python",
   "pygments_lexer": "ipython3",
   "version": "3.10.6"
  }
 },
 "nbformat": 4,
 "nbformat_minor": 5
}
