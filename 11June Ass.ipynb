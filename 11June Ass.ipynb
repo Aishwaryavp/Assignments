{
 "cells": [
  {
   "cell_type": "code",
   "execution_count": 1,
   "id": "8fc47782-08fe-4bcc-a7c1-5d3770459eac",
   "metadata": {},
   "outputs": [],
   "source": [
    "#1. What is a lambda function in Python, and how does it differ from a regular function?\n",
    "#A lambda function in Python is an anonymous, small, and lightweight function defined using the lambda keyword. It's also referred to as a \"lambda expression.\"\n",
    "#Lambda functions are used for creating small, one-time-use functions without explicitly naming them.\n",
    "#They differ from regular functions in Python in that they have a more limited syntax and can only contain a single expression. They are typically used for simple, short operations.\n"
   ]
  },
  {
   "cell_type": "code",
   "execution_count": 3,
   "id": "7ad4a163-5c10-476d-9e8d-11fe83f39431",
   "metadata": {},
   "outputs": [
    {
     "name": "stdout",
     "output_type": "stream",
     "text": [
      "13\n"
     ]
    }
   ],
   "source": [
    "#2. Can a lambda function in Python have multiple arguments? If yes, how can you define and use them?\n",
    "#Yes, lambda functions in Python can have multiple arguments.We can define them by separating the arguments with commas and specifying the expression after a colon.\n",
    "add = lambda x, y: x + y\n",
    "result = add(8, 5)\n",
    "print(result)"
   ]
  },
  {
   "cell_type": "code",
   "execution_count": 7,
   "id": "6e7cabc2-e6a2-461b-b92d-b7bd340178cf",
   "metadata": {},
   "outputs": [
    {
     "name": "stdout",
     "output_type": "stream",
     "text": [
      "[9, 3, 1, 1, 7]\n"
     ]
    }
   ],
   "source": [
    "#3. How are lambda functions typically used in Python? Provide an example use case.\n",
    "#Lambda functions are typically used in places where a small, simple function is needed for a short duration and it's inconvenient to define a regular named function.\n",
    "#Common use cases include sorting, filtering, mapping, and reducing data in collections like lists or dictionaries.\n",
    "#For example, in a list of numbers, you can use a lambda function with sorted() to sort the list based on some criteria.\n",
    "numb = [1, 9, 1, 7, 3]\n",
    "sorted_num = sorted(numb, key=lambda x: x % 3)  # Sort by remainder when divided by 3\n",
    "print(sorted_num)"
   ]
  },
  {
   "cell_type": "code",
   "execution_count": 8,
   "id": "6ce4f746-5b07-441a-87ad-dbb1c79fce29",
   "metadata": {},
   "outputs": [],
   "source": [
    "#4. What are the advantages and limitations of lambda functions compared to regular functions in Python?\n",
    "#Advantages:\n",
    "\n",
    "# Concise syntax: Lambda functions are concise and can be defined in a single line.\n",
    "# Readability: They are useful when a function's purpose is straightforward and doesn't require a separate name.\n",
    "# Convenience: Lambda functions are handy for quick, throwaway operations.\n",
    "\n",
    "# Limitations:\n",
    "\n",
    "# Limited complexity: Lambda functions can only contain a single expression, making them unsuitable for complex logic.\n",
    "# No documentation: They lack documentation strings (docstrings), which are important for explaining a function's purpose.\n",
    "# Less versatile: Regular functions can do everything lambda functions can and more, including multiple expressions, loops, and conditional statements.\n"
   ]
  },
  {
   "cell_type": "code",
   "execution_count": 9,
   "id": "691d9f05-44f1-46c9-b074-8f84a267775d",
   "metadata": {},
   "outputs": [
    {
     "name": "stdout",
     "output_type": "stream",
     "text": [
      "15\n",
      "[1, 2, 3, 4]\n"
     ]
    }
   ],
   "source": [
    "#5. Are lambda functions in Python able to access variables defined outside of their own scope? Explain with an example.\n",
    "#Access to Variables Outside Their Scope: Lambda functions in Python can access variables defined outside of their own scope, but there's a catch. They can only access variables from the surrounding scope, not modify them unless the variables are mutable objects.\n",
    "outside_variable = 10\n",
    "\n",
    "lambda_func = lambda x: x + outside_variable\n",
    "\n",
    "result = lambda_func(5)\n",
    "print(result)  # Output: 15\n",
    "\n",
    "mutable_list = [1, 2, 3]\n",
    "modify_list = lambda x: x.append(4)\n",
    "\n",
    "modify_list(mutable_list)\n",
    "print(mutable_list)\n"
   ]
  },
  {
   "cell_type": "code",
   "execution_count": 14,
   "id": "c3d6fdcd-7dee-4c97-857f-2780201bd9b4",
   "metadata": {},
   "outputs": [
    {
     "name": "stdout",
     "output_type": "stream",
     "text": [
      "25\n"
     ]
    }
   ],
   "source": [
    "#6. Write a lambda function to calculate the square of a given number.\n",
    "square = lambda x: x ** 2\n",
    "result = square(5)\n",
    "print(result)"
   ]
  },
  {
   "cell_type": "code",
   "execution_count": 15,
   "id": "7b6ce7ae-6eee-4b48-839c-d7b5f35650b8",
   "metadata": {},
   "outputs": [
    {
     "name": "stdout",
     "output_type": "stream",
     "text": [
      "9\n"
     ]
    }
   ],
   "source": [
    "# 7. Create a lambda function to find the maximum value in a list of integers.\n",
    "numbers = [3, 8, 1, 6, 4, 9]\n",
    "max_value = lambda x: max(x)\n",
    "result = max_value(numbers)\n",
    "print(result)"
   ]
  },
  {
   "cell_type": "code",
   "execution_count": 16,
   "id": "655f9c5e-4ead-45cd-acce-208cdc05a0f5",
   "metadata": {},
   "outputs": [
    {
     "name": "stdout",
     "output_type": "stream",
     "text": [
      "[2, 4, 6, 8]\n"
     ]
    }
   ],
   "source": [
    "# 8. Implement a lambda function to filter out all the even numbers from a list of integers.\n",
    "numbers = [1, 2, 3, 4, 5, 6, 7, 8, 9]\n",
    "even_numbers = lambda x: list(filter(lambda y: y % 2 == 0, x))\n",
    "result = even_numbers(numbers)\n",
    "print(result)"
   ]
  },
  {
   "cell_type": "code",
   "execution_count": 17,
   "id": "d89899bd-3d80-4c83-8d49-3ef7a9148ca1",
   "metadata": {},
   "outputs": [
    {
     "name": "stdout",
     "output_type": "stream",
     "text": [
      "['date', 'apple', 'banana', 'cherry']\n"
     ]
    }
   ],
   "source": [
    "# 9. Write a lambda function to sort a list of strings in ascending order based on the length of each string.\n",
    "strings = [\"apple\", \"banana\", \"cherry\", \"date\"]\n",
    "sorted_strings = lambda x: sorted(x, key=lambda y: len(y))\n",
    "result = sorted_strings(strings)\n",
    "print(result)"
   ]
  },
  {
   "cell_type": "code",
   "execution_count": 18,
   "id": "b05ed954-fcfb-4f2e-9642-3f74e7a6f321",
   "metadata": {},
   "outputs": [
    {
     "name": "stdout",
     "output_type": "stream",
     "text": [
      "[3, 4, 5]\n"
     ]
    }
   ],
   "source": [
    "# 10. Create a lambda function that takes two lists as input and returns a new list containing the common elements between the two lists.\n",
    "list1 = [1, 2, 3, 4, 5]\n",
    "list2 = [3, 4, 5, 6, 7]\n",
    "common_elements = lambda x, y: list(filter(lambda a: a in x, y))\n",
    "result = common_elements(list1, list2)\n",
    "print(result)"
   ]
  },
  {
   "cell_type": "code",
   "execution_count": 23,
   "id": "8b5bcb38-b297-4eb0-a6d8-bccef1a82751",
   "metadata": {},
   "outputs": [
    {
     "name": "stdout",
     "output_type": "stream",
     "text": [
      "120\n"
     ]
    }
   ],
   "source": [
    "# 11. Write a recursive function to calculate the factorial of a given positive integer.\n",
    "def factorial(n):\n",
    "    if n == 0:\n",
    "        return 1\n",
    "    else:\n",
    "        return n * factorial(n - 1)\n",
    "\n",
    "result = factorial(5)\n",
    "print(result)"
   ]
  },
  {
   "cell_type": "code",
   "execution_count": 24,
   "id": "68fa36ea-cb15-4cdb-9768-67fde9b3d698",
   "metadata": {},
   "outputs": [
    {
     "name": "stdout",
     "output_type": "stream",
     "text": [
      "13\n"
     ]
    }
   ],
   "source": [
    "# 12. Implement a recursive function to compute the nth Fibonacci number.\n",
    "def fibonacci(n):\n",
    "    if n <= 1:\n",
    "        return n\n",
    "    else:\n",
    "        return fibonacci(n - 1) + fibonacci(n - 2)\n",
    "\n",
    "result = fibonacci(7)\n",
    "print(result) "
   ]
  },
  {
   "cell_type": "code",
   "execution_count": 25,
   "id": "f37babfb-7a7e-42db-837e-a2bc5015901e",
   "metadata": {},
   "outputs": [
    {
     "name": "stdout",
     "output_type": "stream",
     "text": [
      "15\n"
     ]
    }
   ],
   "source": [
    "# 13. Create a recursive function to find the sum of all the elements in a given list.\n",
    "def list_sum(lst):\n",
    "    if not lst:\n",
    "        return 0\n",
    "    else:\n",
    "        return lst[0] + list_sum(lst[1:])\n",
    "\n",
    "numbers = [1, 2, 3, 4, 5]\n",
    "result = list_sum(numbers)\n",
    "print(result) "
   ]
  },
  {
   "cell_type": "code",
   "execution_count": 26,
   "id": "8093247a-b2fb-47df-a231-6cd6d5bc6048",
   "metadata": {},
   "outputs": [
    {
     "name": "stdout",
     "output_type": "stream",
     "text": [
      "True\n"
     ]
    }
   ],
   "source": [
    "# 14. Write a recursive function to determine whether a given string is a palindrome.\n",
    "def is_palindrome(s):\n",
    "    s = s.lower().replace(\" \", \"\")\n",
    "    if len(s) <= 1:\n",
    "        return True\n",
    "    elif s[0] == s[-1]:\n",
    "        return is_palindrome(s[1:-1])\n",
    "    else:\n",
    "        return False\n",
    "\n",
    "string = \"A man a plan a canal Panama\"\n",
    "result = is_palindrome(string)\n",
    "print(result)"
   ]
  },
  {
   "cell_type": "code",
   "execution_count": 28,
   "id": "a8025090-dd13-4c52-a4f6-047956501a6f",
   "metadata": {},
   "outputs": [
    {
     "name": "stdout",
     "output_type": "stream",
     "text": [
      "6\n"
     ]
    }
   ],
   "source": [
    "# 15. Implement a recursive function to find the greatest common divisor (GCD) of two positive integers.\n",
    "def gcd(a, b):\n",
    "    if b == 0:\n",
    "        return a\n",
    "    else:\n",
    "        return gcd(b, a % b)\n",
    "\n",
    "result = gcd(48, 18)\n",
    "print(result)"
   ]
  },
  {
   "cell_type": "code",
   "execution_count": null,
   "id": "c021013c-6131-4e4e-b6cf-12bc1a590cb7",
   "metadata": {},
   "outputs": [],
   "source": []
  }
 ],
 "metadata": {
  "kernelspec": {
   "display_name": "Python 3 (ipykernel)",
   "language": "python",
   "name": "python3"
  },
  "language_info": {
   "codemirror_mode": {
    "name": "ipython",
    "version": 3
   },
   "file_extension": ".py",
   "mimetype": "text/x-python",
   "name": "python",
   "nbconvert_exporter": "python",
   "pygments_lexer": "ipython3",
   "version": "3.10.6"
  }
 },
 "nbformat": 4,
 "nbformat_minor": 5
}
