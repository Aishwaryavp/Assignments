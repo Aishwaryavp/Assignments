{
 "cells": [
  {
   "cell_type": "code",
   "execution_count": 13,
   "id": "63a89467-da67-4e1c-95b8-399dfb3813a7",
   "metadata": {},
   "outputs": [
    {
     "name": "stdout",
     "output_type": "stream",
     "text": [
      "First variable is 3 & second variable is 4\n",
      "Addition of 3 and 4 is 7\n",
      "Multiplication of 3 and 4 is 12\n",
      "subtraction of 3 and 4 is 1\n",
      "division of 3 and 4 is 1.3333333333333333\n"
     ]
    }
   ],
   "source": [
    "#Q.1. Create two int type variables, apply addition, subtraction, division and \n",
    "# multiplications and store the results in variables. Then print the data in the \n",
    "# following format by calling thevariables\n",
    "var1= 3\n",
    "var2=4\n",
    "print('First variable is', var1, '&', 'second variable is',var2)\n",
    "add = var1+var2\n",
    "print('Addition of', var1 ,'and', var2, 'is',add)\n",
    "mult =var1*var2\n",
    "print('Multiplication of', var1, 'and', var2, 'is',mult)\n",
    "if var1>var2:\n",
    "    sub=var1-var2\n",
    "    div=var1/var2\n",
    "else:\n",
    "    sub=var2-var1\n",
    "    div=var2/var1\n",
    "print('subtraction of', var1, 'and', var2 ,'is',sub)\n",
    "print('division of', var1, 'and', var2, 'is',div)  "
   ]
  },
  {
   "cell_type": "code",
   "execution_count": 2,
   "id": "b3c0f76d-48c6-4006-bd21-cb4f46bc8961",
   "metadata": {},
   "outputs": [
    {
     "name": "stdout",
     "output_type": "stream",
     "text": [
      "<class 'float'> 1.3333333333333333\n",
      "<class 'int'> 1\n",
      "64\n",
      "14\n",
      "7\n"
     ]
    }
   ],
   "source": [
    "#Q.2.What is the difference between the following operators:(i) ‘/’ & ‘//’(ii) ‘**’ & ‘^’\n",
    "\n",
    "# '/' is used to divide the numbers and results in the float type. ex- 4/3 =1.33\n",
    "# '//' is also used to divide the numbers but results in the int type after rounding. ex- 4/3 =1\n",
    "print(type(4/3),(4/3))\n",
    "print(type(4//3),(4//3))\n",
    "# '4**3' represents the exponentiation operation. It calculates 4 raised to the power of 3\n",
    "print(4**3)\n",
    "# XOR\n",
    "# ^ compares each bit of the 1st operand with the 2nd. \n",
    "# If one bit is 1 (but not both), the corresponding result bit is set to 1, otherwise set to 0\n",
    "\n",
    "a = 10  # 1010\n",
    "b = 4   # 0100\n",
    "\n",
    "result = a ^ b\n",
    "print(result) \n",
    "print(4^3)"
   ]
  },
  {
   "cell_type": "code",
   "execution_count": 6,
   "id": "4d58c893-fb2a-4cad-bb10-ffb4014dfeb5",
   "metadata": {},
   "outputs": [
    {
     "name": "stdout",
     "output_type": "stream",
     "text": [
      "True\n",
      "False\n",
      "----------------------\n",
      "True\n",
      "False\n",
      "----------------------\n",
      "False\n",
      "True\n"
     ]
    }
   ],
   "source": [
    "#Q.3. List the logical operators\n",
    "\n",
    "#and: The and operator returns True if both operands are True, otherwise it returns False.\n",
    "a = 10\n",
    "b = 5\n",
    "c = 0\n",
    "print(a > b and b > c) \n",
    "print(a > b and b == c)\n",
    "print('----------------------')\n",
    "#or: The or operator returns True if at least one of the operands is True, otherwise it returns False.\n",
    "print(a > b or b > c) \n",
    "print(a == b or b == c)\n",
    "print('----------------------')\n",
    "#not: The not operator returns the opposite of the operand. If the operand is True, it returns False, and if the operand is False, it returns True.\n",
    "print(not a > b)\n",
    "print(not c)"
   ]
  },
  {
   "cell_type": "code",
   "execution_count": 10,
   "id": "a38e445f-6c69-4a1d-9232-40d0612861ca",
   "metadata": {},
   "outputs": [
    {
     "name": "stdout",
     "output_type": "stream",
     "text": [
      "5\n",
      "20\n"
     ]
    }
   ],
   "source": [
    "#Q.4. Explain right shift operator and left shift operator with examples.\n",
    "#The right shift operator (>>) shifts the bits of a number to the right by a specified number of positions. It effectively divides the number by 2 raised to the power of the specified shift count. The rightmost bits are discarded, and the leftmost bits are filled with zeros.\n",
    "a = 10 # 1010\n",
    "result = a >> 1 \n",
    "print(result)\n",
    "#The left shift operator (<<) shifts the bits of a number to the left by a specified number of positions. It effectively multiplies the number by 2 raised to the power of the specified shift count. The rightmost bits are filled with zeros, and the leftmost bits that are shifted out are discarded.\n",
    "a = 10 # 1010\n",
    "result = a <<1\n",
    "print(result)"
   ]
  },
  {
   "cell_type": "code",
   "execution_count": 19,
   "id": "e0139cea-c5e4-4fab-b502-10c2daee52b0",
   "metadata": {},
   "outputs": [
    {
     "name": "stdout",
     "output_type": "stream",
     "text": [
      "10 is present in the list\n"
     ]
    }
   ],
   "source": [
    "#Q.5. Create a list containing int type data of length 15. Then write a code to check if 10 ispresent in the list or not.\n",
    "lis=[1,2,3,4,5,6,7,8,9,10,11,12,13,14,15]\n",
    "i =10\n",
    "if i in lis:\n",
    "    print(i,\"is present in the list\")\n",
    "else:\n",
    "    print(i,\"is not present in the list\")"
   ]
  },
  {
   "cell_type": "code",
   "execution_count": null,
   "id": "10aabe77-dad1-4375-b8eb-1db023366f02",
   "metadata": {},
   "outputs": [],
   "source": []
  }
 ],
 "metadata": {
  "kernelspec": {
   "display_name": "Python 3 (ipykernel)",
   "language": "python",
   "name": "python3"
  },
  "language_info": {
   "codemirror_mode": {
    "name": "ipython",
    "version": 3
   },
   "file_extension": ".py",
   "mimetype": "text/x-python",
   "name": "python",
   "nbconvert_exporter": "python",
   "pygments_lexer": "ipython3",
   "version": "3.10.6"
  }
 },
 "nbformat": 4,
 "nbformat_minor": 5
}
